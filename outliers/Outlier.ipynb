{
 "cells": [
  {
   "cell_type": "code",
   "execution_count": 1,
   "metadata": {},
   "outputs": [
    {
     "name": "stderr",
     "output_type": "stream",
     "text": [
      "C:\\Users\\binglu\\AppData\\Local\\Continuum\\anaconda2\\lib\\site-packages\\sklearn\\cross_validation.py:41: DeprecationWarning: This module was deprecated in version 0.18 in favor of the model_selection module into which all the refactored classes and functions are moved. Also note that the interface of the new CV iterators are different from that of this module. This module will be removed in 0.20.\n",
      "  \"This module will be removed in 0.20.\", DeprecationWarning)\n"
     ]
    },
    {
     "ename": "NameError",
     "evalue": "name 'age_train' is not defined",
     "output_type": "error",
     "traceback": [
      "\u001b[1;31m---------------------------------------------------------------------------\u001b[0m",
      "\u001b[1;31mNameError\u001b[0m                                 Traceback (most recent call last)",
      "\u001b[1;32mC:\\Users\\binglu\\Documents\\py_code\\ML_Class\\ud120-projects\\outliers\\outlier_removal_regression_Lucy.py\u001b[0m in \u001b[0;36m<module>\u001b[1;34m()\u001b[0m\n\u001b[0;32m     29\u001b[0m \u001b[1;32mfrom\u001b[0m \u001b[0msklearn\u001b[0m \u001b[1;32mimport\u001b[0m \u001b[0mlinear_model\u001b[0m\u001b[1;33m\u001b[0m\u001b[0m\n\u001b[0;32m     30\u001b[0m \u001b[0mreg\u001b[0m \u001b[1;33m=\u001b[0m \u001b[0mlinear_model\u001b[0m\u001b[1;33m.\u001b[0m\u001b[0mLinearRegression\u001b[0m\u001b[1;33m(\u001b[0m\u001b[1;33m)\u001b[0m\u001b[1;33m\u001b[0m\u001b[0m\n\u001b[1;32m---> 31\u001b[1;33m \u001b[0mreg\u001b[0m\u001b[1;33m.\u001b[0m\u001b[0mfit\u001b[0m\u001b[1;33m(\u001b[0m\u001b[0mage_train\u001b[0m\u001b[1;33m,\u001b[0m \u001b[0mnet_worths_train\u001b[0m\u001b[1;33m)\u001b[0m\u001b[1;33m\u001b[0m\u001b[0m\n\u001b[0m\u001b[0;32m     32\u001b[0m \u001b[1;32mprint\u001b[0m \u001b[1;34m'Slope is:'\u001b[0m\u001b[1;33m+\u001b[0m \u001b[0mreg\u001b[0m\u001b[1;33m.\u001b[0m\u001b[0mcoef_\u001b[0m\u001b[1;33m\u001b[0m\u001b[0m\n\u001b[0;32m     33\u001b[0m \u001b[1;33m\u001b[0m\u001b[0m\n",
      "\u001b[1;31mNameError\u001b[0m: name 'age_train' is not defined"
     ]
    }
   ],
   "source": [
    "%run outlier_removal_regression_Lucy"
   ]
  },
  {
   "cell_type": "code",
   "execution_count": 2,
   "metadata": {},
   "outputs": [
    {
     "ename": "TypeError",
     "evalue": "ufunc 'add' did not contain a loop with signature matching types dtype('S32') dtype('S32') dtype('S32')",
     "output_type": "error",
     "traceback": [
      "\u001b[1;31m---------------------------------------------------------------------------\u001b[0m",
      "\u001b[1;31mTypeError\u001b[0m                                 Traceback (most recent call last)",
      "\u001b[1;32mC:\\Users\\binglu\\Documents\\py_code\\ML_Class\\ud120-projects\\outliers\\outlier_removal_regression_Lucy.py\u001b[0m in \u001b[0;36m<module>\u001b[1;34m()\u001b[0m\n\u001b[0;32m     30\u001b[0m \u001b[0mreg\u001b[0m \u001b[1;33m=\u001b[0m \u001b[0mlinear_model\u001b[0m\u001b[1;33m.\u001b[0m\u001b[0mLinearRegression\u001b[0m\u001b[1;33m(\u001b[0m\u001b[1;33m)\u001b[0m\u001b[1;33m\u001b[0m\u001b[0m\n\u001b[0;32m     31\u001b[0m \u001b[0mreg\u001b[0m\u001b[1;33m.\u001b[0m\u001b[0mfit\u001b[0m\u001b[1;33m(\u001b[0m\u001b[0mages_train\u001b[0m\u001b[1;33m,\u001b[0m \u001b[0mnet_worths_train\u001b[0m\u001b[1;33m)\u001b[0m\u001b[1;33m\u001b[0m\u001b[0m\n\u001b[1;32m---> 32\u001b[1;33m \u001b[1;32mprint\u001b[0m \u001b[1;34m'Slope is:'\u001b[0m\u001b[1;33m+\u001b[0m \u001b[0mreg\u001b[0m\u001b[1;33m.\u001b[0m\u001b[0mcoef_\u001b[0m\u001b[1;33m\u001b[0m\u001b[0m\n\u001b[0m\u001b[0;32m     33\u001b[0m \u001b[1;33m\u001b[0m\u001b[0m\n\u001b[0;32m     34\u001b[0m \u001b[1;33m\u001b[0m\u001b[0m\n",
      "\u001b[1;31mTypeError\u001b[0m: ufunc 'add' did not contain a loop with signature matching types dtype('S32') dtype('S32') dtype('S32')"
     ]
    }
   ],
   "source": [
    "%run outlier_removal_regression_Lucy"
   ]
  },
  {
   "cell_type": "code",
   "execution_count": 3,
   "metadata": {},
   "outputs": [
    {
     "name": "stdout",
     "output_type": "stream",
     "text": [
      "Slope is:\n"
     ]
    },
    {
     "data": {
      "image/png": "[encoded data removed]",
      "text/plain": [
       "<matplotlib.figure.Figure at 0x9c3ada0>"
      ]
     },
     "metadata": {},
     "output_type": "display_data"
    },
    {
     "name": "stdout",
     "output_type": "stream",
     "text": [
      "outlierCleaner() is returning an empty list, no refitting to be done\n"
     ]
    }
   ],
   "source": [
    "%run outlier_removal_regression_Lucy%run outlier_removal_regression_Lucy"
   ]
  },
  {
   "cell_type": "code",
   "execution_count": 4,
   "metadata": {},
   "outputs": [
    {
     "ename": "TypeError",
     "evalue": "ufunc 'add' did not contain a loop with signature matching types dtype('S32') dtype('S32') dtype('S32')",
     "output_type": "error",
     "traceback": [
      "\u001b[1;31m---------------------------------------------------------------------------\u001b[0m",
      "\u001b[1;31mTypeError\u001b[0m                                 Traceback (most recent call last)",
      "\u001b[1;32mC:\\Users\\binglu\\Documents\\py_code\\ML_Class\\ud120-projects\\outliers\\outlier_removal_regression_Lucy.py\u001b[0m in \u001b[0;36m<module>\u001b[1;34m()\u001b[0m\n\u001b[0;32m     30\u001b[0m \u001b[0mreg\u001b[0m \u001b[1;33m=\u001b[0m \u001b[0mlinear_model\u001b[0m\u001b[1;33m.\u001b[0m\u001b[0mLinearRegression\u001b[0m\u001b[1;33m(\u001b[0m\u001b[1;33m)\u001b[0m\u001b[1;33m\u001b[0m\u001b[0m\n\u001b[0;32m     31\u001b[0m \u001b[0mreg\u001b[0m\u001b[1;33m.\u001b[0m\u001b[0mfit\u001b[0m\u001b[1;33m(\u001b[0m\u001b[0mages_train\u001b[0m\u001b[1;33m,\u001b[0m \u001b[0mnet_worths_train\u001b[0m\u001b[1;33m)\u001b[0m\u001b[1;33m\u001b[0m\u001b[0m\n\u001b[1;32m---> 32\u001b[1;33m \u001b[0mslope\u001b[0m\u001b[1;33m=\u001b[0m \u001b[1;34m'Slope is:'\u001b[0m\u001b[1;33m+\u001b[0m \u001b[0mreg\u001b[0m\u001b[1;33m.\u001b[0m\u001b[0mcoef_\u001b[0m\u001b[1;33m\u001b[0m\u001b[0m\n\u001b[0m\u001b[0;32m     33\u001b[0m \u001b[1;32mprint\u001b[0m \u001b[0mslope\u001b[0m\u001b[1;33m\u001b[0m\u001b[0m\n\u001b[0;32m     34\u001b[0m \u001b[1;33m\u001b[0m\u001b[0m\n",
      "\u001b[1;31mTypeError\u001b[0m: ufunc 'add' did not contain a loop with signature matching types dtype('S32') dtype('S32') dtype('S32')"
     ]
    }
   ],
   "source": [
    "%run outlier_removal_regression_Lucy"
   ]
  },
  {
   "cell_type": "code",
   "execution_count": 5,
   "metadata": {},
   "outputs": [
    {
     "name": "stdout",
     "output_type": "stream",
     "text": [
      "('Slope is:', array([[5.07793064]]))\n"
     ]
    },
    {
     "data": {
      "image/png": "[encoded data removed]",
      "text/plain": [
       "<matplotlib.figure.Figure at 0x9c8d240>"
      ]
     },
     "metadata": {},
     "output_type": "display_data"
    },
    {
     "name": "stdout",
     "output_type": "stream",
     "text": [
      "outlierCleaner() is returning an empty list, no refitting to be done\n"
     ]
    }
   ],
   "source": [
    "%run outlier_removal_regression_Lucy"
   ]
  },
  {
   "cell_type": "code",
   "execution_count": 6,
   "metadata": {},
   "outputs": [
    {
     "name": "stdout",
     "output_type": "stream",
     "text": [
      "Slope is: [[5.07793064]]\n"
     ]
    },
    {
     "data": {
      "image/png": "[encoded data removed]",
      "text/plain": [
       "<matplotlib.figure.Figure at 0x9db17f0>"
      ]
     },
     "metadata": {},
     "output_type": "display_data"
    },
    {
     "name": "stdout",
     "output_type": "stream",
     "text": [
      "outlierCleaner() is returning an empty list, no refitting to be done\n"
     ]
    }
   ],
   "source": [
    "%run outlier_removal_regression_Lucy"
   ]
  },
  {
   "cell_type": "code",
   "execution_count": 7,
   "metadata": {},
   "outputs": [
    {
     "name": "stdout",
     "output_type": "stream",
     "text": [
      "Slope is: [[5.07793064]]\n",
      "Slope is: [25.21002155]\n"
     ]
    },
    {
     "data": {
      "image/png": "[encoded data removed]",
      "text/plain": [
       "<matplotlib.figure.Figure at 0xb9c9550>"
      ]
     },
     "metadata": {},
     "output_type": "display_data"
    },
    {
     "name": "stdout",
     "output_type": "stream",
     "text": [
      "outlierCleaner() is returning an empty list, no refitting to be done\n"
     ]
    }
   ],
   "source": [
    "%run outlier_removal_regression_Lucy"
   ]
  },
  {
   "cell_type": "code",
   "execution_count": 8,
   "metadata": {},
   "outputs": [
    {
     "name": "stdout",
     "output_type": "stream",
     "text": [
      "Slope is: [[5.07793064]]\n",
      "Intercept is: [25.21002155]\n"
     ]
    },
    {
     "data": {
      "image/png": "[encoded data removed]",
      "text/plain": [
       "<matplotlib.figure.Figure at 0xbaabb00>"
      ]
     },
     "metadata": {},
     "output_type": "display_data"
    },
    {
     "name": "stdout",
     "output_type": "stream",
     "text": [
      "outlierCleaner() is returning an empty list, no refitting to be done\n"
     ]
    }
   ],
   "source": [
    "%run outlier_removal_regression_Lucy"
   ]
  },
  {
   "cell_type": "code",
   "execution_count": 9,
   "metadata": {},
   "outputs": [
    {
     "name": "stdout",
     "output_type": "stream",
     "text": [
      "Slope is: [[5.07793064]]\n",
      "Intercept is: [25.21002155]\n",
      "Slope is: [[6.73676836]]\n",
      "Intercept is: [-23.3372805]\n"
     ]
    },
    {
     "data": {
      "image/png": "[encoded data removed]",
      "text/plain": [
       "<matplotlib.figure.Figure at 0xbd55710>"
      ]
     },
     "metadata": {},
     "output_type": "display_data"
    },
    {
     "name": "stdout",
     "output_type": "stream",
     "text": [
      "outlierCleaner() is returning an empty list, no refitting to be done\n"
     ]
    }
   ],
   "source": [
    "%run outlier_removal_regression_Lucy"
   ]
  },
  {
   "cell_type": "code",
   "execution_count": 10,
   "metadata": {},
   "outputs": [
    {
     "name": "stdout",
     "output_type": "stream",
     "text": [
      "Slope is: [[5.07793064]]\n",
      "Intercept is: [25.21002155]\n",
      "Slope is: [[6.73676836]]\n",
      "Intercept is: [-23.3372805]\n",
      "0.9863428457296545\n"
     ]
    },
    {
     "data": {
      "image/png": "[encoded data removed]",
      "text/plain": [
       "<matplotlib.figure.Figure at 0xbfbc390>"
      ]
     },
     "metadata": {},
     "output_type": "display_data"
    },
    {
     "name": "stdout",
     "output_type": "stream",
     "text": [
      "outlierCleaner() is returning an empty list, no refitting to be done\n"
     ]
    }
   ],
   "source": [
    "%run outlier_removal_regression_Lucy"
   ]
  },
  {
   "cell_type": "code",
   "execution_count": 11,
   "metadata": {},
   "outputs": [
    {
     "name": "stdout",
     "output_type": "stream",
     "text": [
      "Slope is: [[5.07793064]]\n",
      "Intercept is: [25.21002155]\n",
      "0.8782624703664675\n",
      "Slope is: [[6.73676836]]\n",
      "Intercept is: [-23.3372805]\n",
      "0.9863428457296545\n"
     ]
    },
    {
     "data": {
      "image/png": "[encoded data removed]",
      "text/plain": [
       "<matplotlib.figure.Figure at 0xc12e198>"
      ]
     },
     "metadata": {},
     "output_type": "display_data"
    },
    {
     "name": "stdout",
     "output_type": "stream",
     "text": [
      "outlierCleaner() is returning an empty list, no refitting to be done\n"
     ]
    }
   ],
   "source": [
    "%run outlier_removal_regression_Lucy"
   ]
  },
  {
   "cell_type": "code",
   "execution_count": 12,
   "metadata": {},
   "outputs": [
    {
     "name": "stdout",
     "output_type": "stream",
     "text": [
      "Slope is: [[5.07793064]]\n",
      "Intercept is: [25.21002155]\n",
      "0.8782624703664675\n"
     ]
    },
    {
     "data": {
      "image/png": "[encoded data removed]",
      "text/plain": [
       "<matplotlib.figure.Figure at 0xc591be0>"
      ]
     },
     "metadata": {},
     "output_type": "display_data"
    },
    {
     "name": "stdout",
     "output_type": "stream",
     "text": [
      "outlierCleaner() is returning an empty list, no refitting to be done\n"
     ]
    }
   ],
   "source": [
    "%run outlier_removal_regression_Lucy"
   ]
  },
  {
   "cell_type": "code",
   "execution_count": 13,
   "metadata": {},
   "outputs": [
    {
     "ename": "IndentationError",
     "evalue": "unexpected indent (outlier_cleaner.py, line 17)",
     "output_type": "error",
     "traceback": [
      "\u001b[1;36m  File \u001b[1;32m\"C:\\Users\\binglu\\Documents\\py_code\\ML_Class\\ud120-projects\\outliers\\outlier_cleaner.py\"\u001b[1;36m, line \u001b[1;32m17\u001b[0m\n\u001b[1;33m    diff= abs(prediction-net_worths)\u001b[0m\n\u001b[1;37m    ^\u001b[0m\n\u001b[1;31mIndentationError\u001b[0m\u001b[1;31m:\u001b[0m unexpected indent\n"
     ]
    }
   ],
   "source": [
    "%run outlier_cleaner.py"
   ]
  },
  {
   "cell_type": "code",
   "execution_count": 14,
   "metadata": {},
   "outputs": [
    {
     "ename": "IndentationError",
     "evalue": "unexpected indent (outlier_cleaner.py, line 17)",
     "output_type": "error",
     "traceback": [
      "\u001b[1;36m  File \u001b[1;32m\"C:\\Users\\binglu\\Documents\\py_code\\ML_Class\\ud120-projects\\outliers\\outlier_cleaner.py\"\u001b[1;36m, line \u001b[1;32m17\u001b[0m\n\u001b[1;33m    error= abs(prediction-net_worths)\u001b[0m\n\u001b[1;37m    ^\u001b[0m\n\u001b[1;31mIndentationError\u001b[0m\u001b[1;31m:\u001b[0m unexpected indent\n"
     ]
    }
   ],
   "source": [
    "%run outlier_cleaner.py"
   ]
  },
  {
   "cell_type": "code",
   "execution_count": 15,
   "metadata": {},
   "outputs": [
    {
     "ename": "IndentationError",
     "evalue": "unexpected indent (outlier_cleaner.py, line 18)",
     "output_type": "error",
     "traceback": [
      "\u001b[1;36m  File \u001b[1;32m\"C:\\Users\\binglu\\Documents\\py_code\\ML_Class\\ud120-projects\\outliers\\outlier_cleaner.py\"\u001b[1;36m, line \u001b[1;32m18\u001b[0m\n\u001b[1;33m    error= abs(predictions-net_worths)\u001b[0m\n\u001b[1;37m    ^\u001b[0m\n\u001b[1;31mIndentationError\u001b[0m\u001b[1;31m:\u001b[0m unexpected indent\n"
     ]
    }
   ],
   "source": [
    "%run outlier_cleaner.py"
   ]
  },
  {
   "cell_type": "code",
   "execution_count": 16,
   "metadata": {},
   "outputs": [
    {
     "ename": "IndentationError",
     "evalue": "unexpected indent (outlier_cleaner.py, line 17)",
     "output_type": "error",
     "traceback": [
      "\u001b[1;36m  File \u001b[1;32m\"C:\\Users\\binglu\\Documents\\py_code\\ML_Class\\ud120-projects\\outliers\\outlier_cleaner.py\"\u001b[1;36m, line \u001b[1;32m17\u001b[0m\n\u001b[1;33m    print 'good'\u001b[0m\n\u001b[1;37m    ^\u001b[0m\n\u001b[1;31mIndentationError\u001b[0m\u001b[1;31m:\u001b[0m unexpected indent\n"
     ]
    }
   ],
   "source": [
    "%run outlier_cleaner.py"
   ]
  },
  {
   "cell_type": "code",
   "execution_count": 17,
   "metadata": {},
   "outputs": [
    {
     "ename": "IndentationError",
     "evalue": "unexpected indent (outlier_cleaner.py, line 17)",
     "output_type": "error",
     "traceback": [
      "\u001b[1;36m  File \u001b[1;32m\"C:\\Users\\binglu\\Documents\\py_code\\ML_Class\\ud120-projects\\outliers\\outlier_cleaner.py\"\u001b[1;36m, line \u001b[1;32m17\u001b[0m\n\u001b[1;33m    print 'good'\u001b[0m\n\u001b[1;37m    ^\u001b[0m\n\u001b[1;31mIndentationError\u001b[0m\u001b[1;31m:\u001b[0m unexpected indent\n"
     ]
    }
   ],
   "source": [
    "%run outlier_cleaner.py"
   ]
  },
  {
   "cell_type": "code",
   "execution_count": 18,
   "metadata": {},
   "outputs": [
    {
     "ename": "IndentationError",
     "evalue": "unexpected indent (outlier_cleaner.py, line 18)",
     "output_type": "error",
     "traceback": [
      "\u001b[1;36m  File \u001b[1;32m\"C:\\Users\\binglu\\Documents\\py_code\\ML_Class\\ud120-projects\\outliers\\outlier_cleaner.py\"\u001b[1;36m, line \u001b[1;32m18\u001b[0m\n\u001b[1;33m    error= abs(predictions-net_worths)\u001b[0m\n\u001b[1;37m    ^\u001b[0m\n\u001b[1;31mIndentationError\u001b[0m\u001b[1;31m:\u001b[0m unexpected indent\n"
     ]
    }
   ],
   "source": [
    "%run outlier_cleaner.py"
   ]
  },
  {
   "cell_type": "code",
   "execution_count": 19,
   "metadata": {},
   "outputs": [
    {
     "ename": "IndentationError",
     "evalue": "unexpected indent (outlier_cleaner.py, line 18)",
     "output_type": "error",
     "traceback": [
      "\u001b[1;36m  File \u001b[1;32m\"C:\\Users\\binglu\\Documents\\py_code\\ML_Class\\ud120-projects\\outliers\\outlier_cleaner.py\"\u001b[1;36m, line \u001b[1;32m18\u001b[0m\n\u001b[1;33m    error= abs(predictions-net_worths)\u001b[0m\n\u001b[1;37m    ^\u001b[0m\n\u001b[1;31mIndentationError\u001b[0m\u001b[1;31m:\u001b[0m unexpected indent\n"
     ]
    }
   ],
   "source": [
    "%run outlier_cleaner.py"
   ]
  },
  {
   "cell_type": "code",
   "execution_count": 20,
   "metadata": {},
   "outputs": [
    {
     "ename": "IndentationError",
     "evalue": "unindent does not match any outer indentation level (outlier_cleaner.py, line 32)",
     "output_type": "error",
     "traceback": [
      "\u001b[1;36m  File \u001b[1;32m\"C:\\Users\\binglu\\Documents\\py_code\\ML_Class\\ud120-projects\\outliers\\outlier_cleaner.py\"\u001b[1;36m, line \u001b[1;32m32\u001b[0m\n\u001b[1;33m    cleaned_data=[list(x) for x in izip(age, net_worths, error)]\u001b[0m\n\u001b[1;37m                                                                ^\u001b[0m\n\u001b[1;31mIndentationError\u001b[0m\u001b[1;31m:\u001b[0m unindent does not match any outer indentation level\n"
     ]
    }
   ],
   "source": [
    "%run outlier_cleaner.py"
   ]
  },
  {
   "cell_type": "code",
   "execution_count": 21,
   "metadata": {},
   "outputs": [
    {
     "name": "stdout",
     "output_type": "stream",
     "text": [
      "good\n"
     ]
    },
    {
     "ename": "TypeError",
     "evalue": "unsupported operand type(s) for -: 'list' and 'list'",
     "output_type": "error",
     "traceback": [
      "\u001b[1;31m---------------------------------------------------------------------------\u001b[0m",
      "\u001b[1;31mTypeError\u001b[0m                                 Traceback (most recent call last)",
      "\u001b[1;32mC:\\Users\\binglu\\Documents\\py_code\\ML_Class\\ud120-projects\\outliers\\outlier_cleaner.py\u001b[0m in \u001b[0;36m<module>\u001b[1;34m()\u001b[0m\n\u001b[0;32m     37\u001b[0m \u001b[0mnet_worths\u001b[0m\u001b[1;33m=\u001b[0m\u001b[1;33m[\u001b[0m\u001b[1;36m1\u001b[0m\u001b[1;33m,\u001b[0m\u001b[1;36m6\u001b[0m\u001b[1;33m,\u001b[0m\u001b[1;36m4\u001b[0m\u001b[1;33m,\u001b[0m\u001b[1;36m2\u001b[0m\u001b[1;33m,\u001b[0m\u001b[1;36m7\u001b[0m\u001b[1;33m]\u001b[0m\u001b[1;33m\u001b[0m\u001b[0m\n\u001b[0;32m     38\u001b[0m \u001b[0mages\u001b[0m\u001b[1;33m=\u001b[0m\u001b[1;33m[\u001b[0m\u001b[1;36m1\u001b[0m\u001b[1;33m,\u001b[0m\u001b[1;36m2\u001b[0m\u001b[1;33m,\u001b[0m\u001b[1;36m3\u001b[0m\u001b[1;33m,\u001b[0m\u001b[1;36m4\u001b[0m\u001b[1;33m,\u001b[0m\u001b[1;36m5\u001b[0m\u001b[1;33m]\u001b[0m\u001b[1;33m\u001b[0m\u001b[0m\n\u001b[1;32m---> 39\u001b[1;33m \u001b[0moutlierCleaner\u001b[0m\u001b[1;33m(\u001b[0m\u001b[0mpred\u001b[0m\u001b[1;33m,\u001b[0m \u001b[0mages\u001b[0m\u001b[1;33m,\u001b[0m \u001b[0mnet_worths\u001b[0m\u001b[1;33m)\u001b[0m\u001b[1;33m\u001b[0m\u001b[0m\n\u001b[0m\u001b[0;32m     40\u001b[0m \u001b[1;32mprint\u001b[0m \u001b[0mpred\u001b[0m\u001b[1;33m\u001b[0m\u001b[0m\n\u001b[0;32m     41\u001b[0m \u001b[1;32mprint\u001b[0m \u001b[0mnet_worths\u001b[0m\u001b[1;33m\u001b[0m\u001b[0m\n",
      "\u001b[1;32mC:\\Users\\binglu\\Documents\\py_code\\ML_Class\\ud120-projects\\outliers\\outlier_cleaner.py\u001b[0m in \u001b[0;36moutlierCleaner\u001b[1;34m(predictions, ages, net_worths)\u001b[0m\n\u001b[0;32m     16\u001b[0m     \u001b[1;31m### your code goes here\u001b[0m\u001b[1;33m\u001b[0m\u001b[1;33m\u001b[0m\u001b[0m\n\u001b[0;32m     17\u001b[0m     \u001b[1;32mprint\u001b[0m \u001b[1;34m'good'\u001b[0m\u001b[1;33m\u001b[0m\u001b[0m\n\u001b[1;32m---> 18\u001b[1;33m     \u001b[0merror\u001b[0m\u001b[1;33m=\u001b[0m \u001b[0mabs\u001b[0m\u001b[1;33m(\u001b[0m\u001b[0mpredictions\u001b[0m\u001b[1;33m-\u001b[0m\u001b[0mnet_worths\u001b[0m\u001b[1;33m)\u001b[0m\u001b[1;33m\u001b[0m\u001b[0m\n\u001b[0m\u001b[0;32m     19\u001b[0m     \u001b[1;32mfor\u001b[0m \u001b[0mcounter\u001b[0m \u001b[1;32min\u001b[0m \u001b[0mrange\u001b[0m\u001b[1;33m(\u001b[0m\u001b[1;36m0\u001b[0m\u001b[1;33m,\u001b[0m\u001b[1;36m10\u001b[0m\u001b[1;33m)\u001b[0m\u001b[1;33m:\u001b[0m\u001b[1;33m\u001b[0m\u001b[0m\n\u001b[0;32m     20\u001b[0m                 \u001b[0mmax_pos\u001b[0m\u001b[1;33m=\u001b[0m\u001b[1;36m0\u001b[0m\u001b[1;33m\u001b[0m\u001b[0m\n",
      "\u001b[1;31mTypeError\u001b[0m: unsupported operand type(s) for -: 'list' and 'list'"
     ]
    }
   ],
   "source": [
    "%run outlier_cleaner.py"
   ]
  },
  {
   "cell_type": "code",
   "execution_count": 22,
   "metadata": {},
   "outputs": [
    {
     "ename": "IndentationError",
     "evalue": "unexpected indent (outlier_cleaner.py, line 14)",
     "output_type": "error",
     "traceback": [
      "\u001b[1;36m  File \u001b[1;32m\"C:\\Users\\binglu\\Documents\\py_code\\ML_Class\\ud120-projects\\outliers\\outlier_cleaner.py\"\u001b[1;36m, line \u001b[1;32m14\u001b[0m\n\u001b[1;33m    from numpy import np\u001b[0m\n\u001b[1;37m    ^\u001b[0m\n\u001b[1;31mIndentationError\u001b[0m\u001b[1;31m:\u001b[0m unexpected indent\n"
     ]
    }
   ],
   "source": [
    "%run outlier_cleaner.py"
   ]
  },
  {
   "cell_type": "code",
   "execution_count": 23,
   "metadata": {},
   "outputs": [
    {
     "ename": "ImportError",
     "evalue": "cannot import name np",
     "output_type": "error",
     "traceback": [
      "\u001b[1;31m---------------------------------------------------------------------------\u001b[0m",
      "\u001b[1;31mImportError\u001b[0m                               Traceback (most recent call last)",
      "\u001b[1;32mC:\\Users\\binglu\\Documents\\py_code\\ML_Class\\ud120-projects\\outliers\\outlier_cleaner.py\u001b[0m in \u001b[0;36m<module>\u001b[1;34m()\u001b[0m\n\u001b[0;32m     39\u001b[0m \u001b[0mnet_worths\u001b[0m\u001b[1;33m=\u001b[0m\u001b[1;33m[\u001b[0m\u001b[1;36m1\u001b[0m\u001b[1;33m,\u001b[0m\u001b[1;36m6\u001b[0m\u001b[1;33m,\u001b[0m\u001b[1;36m4\u001b[0m\u001b[1;33m,\u001b[0m\u001b[1;36m2\u001b[0m\u001b[1;33m,\u001b[0m\u001b[1;36m7\u001b[0m\u001b[1;33m]\u001b[0m\u001b[1;33m\u001b[0m\u001b[0m\n\u001b[0;32m     40\u001b[0m \u001b[0mages\u001b[0m\u001b[1;33m=\u001b[0m\u001b[1;33m[\u001b[0m\u001b[1;36m1\u001b[0m\u001b[1;33m,\u001b[0m\u001b[1;36m2\u001b[0m\u001b[1;33m,\u001b[0m\u001b[1;36m3\u001b[0m\u001b[1;33m,\u001b[0m\u001b[1;36m4\u001b[0m\u001b[1;33m,\u001b[0m\u001b[1;36m5\u001b[0m\u001b[1;33m]\u001b[0m\u001b[1;33m\u001b[0m\u001b[0m\n\u001b[1;32m---> 41\u001b[1;33m \u001b[0moutlierCleaner\u001b[0m\u001b[1;33m(\u001b[0m\u001b[0mpred\u001b[0m\u001b[1;33m,\u001b[0m \u001b[0mages\u001b[0m\u001b[1;33m,\u001b[0m \u001b[0mnet_worths\u001b[0m\u001b[1;33m)\u001b[0m\u001b[1;33m\u001b[0m\u001b[0m\n\u001b[0m\u001b[0;32m     42\u001b[0m \u001b[1;32mprint\u001b[0m \u001b[0mpred\u001b[0m\u001b[1;33m\u001b[0m\u001b[0m\n\u001b[0;32m     43\u001b[0m \u001b[1;32mprint\u001b[0m \u001b[0mnet_worths\u001b[0m\u001b[1;33m\u001b[0m\u001b[0m\n",
      "\u001b[1;32mC:\\Users\\binglu\\Documents\\py_code\\ML_Class\\ud120-projects\\outliers\\outlier_cleaner.py\u001b[0m in \u001b[0;36moutlierCleaner\u001b[1;34m(predictions, ages, net_worths)\u001b[0m\n\u001b[0;32m     12\u001b[0m     \"\"\"\n\u001b[0;32m     13\u001b[0m     \u001b[1;32mfrom\u001b[0m \u001b[0mitertools\u001b[0m \u001b[1;32mimport\u001b[0m \u001b[0mizip\u001b[0m\u001b[1;33m\u001b[0m\u001b[0m\n\u001b[1;32m---> 14\u001b[1;33m     \u001b[1;32mfrom\u001b[0m \u001b[0mnumpy\u001b[0m \u001b[1;32mimport\u001b[0m \u001b[0mnp\u001b[0m\u001b[1;33m\u001b[0m\u001b[0m\n\u001b[0m\u001b[0;32m     15\u001b[0m \u001b[1;33m\u001b[0m\u001b[0m\n\u001b[0;32m     16\u001b[0m     \u001b[1;31m#cleaned_data = []\u001b[0m\u001b[1;33m\u001b[0m\u001b[1;33m\u001b[0m\u001b[0m\n",
      "\u001b[1;31mImportError\u001b[0m: cannot import name np"
     ]
    }
   ],
   "source": [
    "%run outlier_cleaner.py"
   ]
  },
  {
   "cell_type": "code",
   "execution_count": 24,
   "metadata": {},
   "outputs": [
    {
     "name": "stdout",
     "output_type": "stream",
     "text": [
      "good\n"
     ]
    },
    {
     "ename": "NameError",
     "evalue": "global name 'np' is not defined",
     "output_type": "error",
     "traceback": [
      "\u001b[1;31m---------------------------------------------------------------------------\u001b[0m",
      "\u001b[1;31mNameError\u001b[0m                                 Traceback (most recent call last)",
      "\u001b[1;32mC:\\Users\\binglu\\Documents\\py_code\\ML_Class\\ud120-projects\\outliers\\outlier_cleaner.py\u001b[0m in \u001b[0;36m<module>\u001b[1;34m()\u001b[0m\n\u001b[0;32m     39\u001b[0m \u001b[0mnet_worths\u001b[0m\u001b[1;33m=\u001b[0m\u001b[1;33m[\u001b[0m\u001b[1;36m1\u001b[0m\u001b[1;33m,\u001b[0m\u001b[1;36m6\u001b[0m\u001b[1;33m,\u001b[0m\u001b[1;36m4\u001b[0m\u001b[1;33m,\u001b[0m\u001b[1;36m2\u001b[0m\u001b[1;33m,\u001b[0m\u001b[1;36m7\u001b[0m\u001b[1;33m]\u001b[0m\u001b[1;33m\u001b[0m\u001b[0m\n\u001b[0;32m     40\u001b[0m \u001b[0mages\u001b[0m\u001b[1;33m=\u001b[0m\u001b[1;33m[\u001b[0m\u001b[1;36m1\u001b[0m\u001b[1;33m,\u001b[0m\u001b[1;36m2\u001b[0m\u001b[1;33m,\u001b[0m\u001b[1;36m3\u001b[0m\u001b[1;33m,\u001b[0m\u001b[1;36m4\u001b[0m\u001b[1;33m,\u001b[0m\u001b[1;36m5\u001b[0m\u001b[1;33m]\u001b[0m\u001b[1;33m\u001b[0m\u001b[0m\n\u001b[1;32m---> 41\u001b[1;33m \u001b[0moutlierCleaner\u001b[0m\u001b[1;33m(\u001b[0m\u001b[0mpred\u001b[0m\u001b[1;33m,\u001b[0m \u001b[0mages\u001b[0m\u001b[1;33m,\u001b[0m \u001b[0mnet_worths\u001b[0m\u001b[1;33m)\u001b[0m\u001b[1;33m\u001b[0m\u001b[0m\n\u001b[0m\u001b[0;32m     42\u001b[0m \u001b[1;32mprint\u001b[0m \u001b[0mpred\u001b[0m\u001b[1;33m\u001b[0m\u001b[0m\n\u001b[0;32m     43\u001b[0m \u001b[1;32mprint\u001b[0m \u001b[0mnet_worths\u001b[0m\u001b[1;33m\u001b[0m\u001b[0m\n",
      "\u001b[1;32mC:\\Users\\binglu\\Documents\\py_code\\ML_Class\\ud120-projects\\outliers\\outlier_cleaner.py\u001b[0m in \u001b[0;36moutlierCleaner\u001b[1;34m(predictions, ages, net_worths)\u001b[0m\n\u001b[0;32m     18\u001b[0m     \u001b[1;31m### your code goes here\u001b[0m\u001b[1;33m\u001b[0m\u001b[1;33m\u001b[0m\u001b[0m\n\u001b[0;32m     19\u001b[0m     \u001b[1;32mprint\u001b[0m \u001b[1;34m'good'\u001b[0m\u001b[1;33m\u001b[0m\u001b[0m\n\u001b[1;32m---> 20\u001b[1;33m     \u001b[0merror\u001b[0m\u001b[1;33m=\u001b[0m \u001b[0mabs\u001b[0m\u001b[1;33m(\u001b[0m\u001b[0mnp\u001b[0m\u001b[1;33m.\u001b[0m\u001b[0msubstract\u001b[0m\u001b[1;33m(\u001b[0m\u001b[0mpredictions\u001b[0m\u001b[1;33m-\u001b[0m\u001b[0mnet_worths\u001b[0m\u001b[1;33m)\u001b[0m\u001b[1;33m)\u001b[0m\u001b[1;33m\u001b[0m\u001b[0m\n\u001b[0m\u001b[0;32m     21\u001b[0m     \u001b[1;32mfor\u001b[0m \u001b[0mcounter\u001b[0m \u001b[1;32min\u001b[0m \u001b[0mrange\u001b[0m\u001b[1;33m(\u001b[0m\u001b[1;36m0\u001b[0m\u001b[1;33m,\u001b[0m\u001b[1;36m10\u001b[0m\u001b[1;33m)\u001b[0m\u001b[1;33m:\u001b[0m\u001b[1;33m\u001b[0m\u001b[0m\n\u001b[0;32m     22\u001b[0m                 \u001b[0mmax_pos\u001b[0m\u001b[1;33m=\u001b[0m\u001b[1;36m0\u001b[0m\u001b[1;33m\u001b[0m\u001b[0m\n",
      "\u001b[1;31mNameError\u001b[0m: global name 'np' is not defined"
     ]
    }
   ],
   "source": [
    "%run outlier_cleaner.py"
   ]
  },
  {
   "cell_type": "code",
   "execution_count": 25,
   "metadata": {},
   "outputs": [
    {
     "name": "stdout",
     "output_type": "stream",
     "text": [
      "good\n"
     ]
    },
    {
     "ename": "AttributeError",
     "evalue": "'module' object has no attribute 'substract'",
     "output_type": "error",
     "traceback": [
      "\u001b[1;31m---------------------------------------------------------------------------\u001b[0m",
      "\u001b[1;31mAttributeError\u001b[0m                            Traceback (most recent call last)",
      "\u001b[1;32mC:\\Users\\binglu\\Documents\\py_code\\ML_Class\\ud120-projects\\outliers\\outlier_cleaner.py\u001b[0m in \u001b[0;36m<module>\u001b[1;34m()\u001b[0m\n\u001b[0;32m     39\u001b[0m \u001b[0mnet_worths\u001b[0m\u001b[1;33m=\u001b[0m\u001b[1;33m[\u001b[0m\u001b[1;36m1\u001b[0m\u001b[1;33m,\u001b[0m\u001b[1;36m6\u001b[0m\u001b[1;33m,\u001b[0m\u001b[1;36m4\u001b[0m\u001b[1;33m,\u001b[0m\u001b[1;36m2\u001b[0m\u001b[1;33m,\u001b[0m\u001b[1;36m7\u001b[0m\u001b[1;33m]\u001b[0m\u001b[1;33m\u001b[0m\u001b[0m\n\u001b[0;32m     40\u001b[0m \u001b[0mages\u001b[0m\u001b[1;33m=\u001b[0m\u001b[1;33m[\u001b[0m\u001b[1;36m1\u001b[0m\u001b[1;33m,\u001b[0m\u001b[1;36m2\u001b[0m\u001b[1;33m,\u001b[0m\u001b[1;36m3\u001b[0m\u001b[1;33m,\u001b[0m\u001b[1;36m4\u001b[0m\u001b[1;33m,\u001b[0m\u001b[1;36m5\u001b[0m\u001b[1;33m]\u001b[0m\u001b[1;33m\u001b[0m\u001b[0m\n\u001b[1;32m---> 41\u001b[1;33m \u001b[0moutlierCleaner\u001b[0m\u001b[1;33m(\u001b[0m\u001b[0mpred\u001b[0m\u001b[1;33m,\u001b[0m \u001b[0mages\u001b[0m\u001b[1;33m,\u001b[0m \u001b[0mnet_worths\u001b[0m\u001b[1;33m)\u001b[0m\u001b[1;33m\u001b[0m\u001b[0m\n\u001b[0m\u001b[0;32m     42\u001b[0m \u001b[1;32mprint\u001b[0m \u001b[0mpred\u001b[0m\u001b[1;33m\u001b[0m\u001b[0m\n\u001b[0;32m     43\u001b[0m \u001b[1;32mprint\u001b[0m \u001b[0mnet_worths\u001b[0m\u001b[1;33m\u001b[0m\u001b[0m\n",
      "\u001b[1;32mC:\\Users\\binglu\\Documents\\py_code\\ML_Class\\ud120-projects\\outliers\\outlier_cleaner.py\u001b[0m in \u001b[0;36moutlierCleaner\u001b[1;34m(predictions, ages, net_worths)\u001b[0m\n\u001b[0;32m     18\u001b[0m     \u001b[1;31m### your code goes here\u001b[0m\u001b[1;33m\u001b[0m\u001b[1;33m\u001b[0m\u001b[0m\n\u001b[0;32m     19\u001b[0m     \u001b[1;32mprint\u001b[0m \u001b[1;34m'good'\u001b[0m\u001b[1;33m\u001b[0m\u001b[0m\n\u001b[1;32m---> 20\u001b[1;33m     \u001b[0merror\u001b[0m\u001b[1;33m=\u001b[0m \u001b[0mabs\u001b[0m\u001b[1;33m(\u001b[0m\u001b[0mnumpy\u001b[0m\u001b[1;33m.\u001b[0m\u001b[0msubstract\u001b[0m\u001b[1;33m(\u001b[0m\u001b[0mpredictions\u001b[0m\u001b[1;33m-\u001b[0m\u001b[0mnet_worths\u001b[0m\u001b[1;33m)\u001b[0m\u001b[1;33m)\u001b[0m\u001b[1;33m\u001b[0m\u001b[0m\n\u001b[0m\u001b[0;32m     21\u001b[0m     \u001b[1;32mfor\u001b[0m \u001b[0mcounter\u001b[0m \u001b[1;32min\u001b[0m \u001b[0mrange\u001b[0m\u001b[1;33m(\u001b[0m\u001b[1;36m0\u001b[0m\u001b[1;33m,\u001b[0m\u001b[1;36m10\u001b[0m\u001b[1;33m)\u001b[0m\u001b[1;33m:\u001b[0m\u001b[1;33m\u001b[0m\u001b[0m\n\u001b[0;32m     22\u001b[0m                 \u001b[0mmax_pos\u001b[0m\u001b[1;33m=\u001b[0m\u001b[1;36m0\u001b[0m\u001b[1;33m\u001b[0m\u001b[0m\n",
      "\u001b[1;31mAttributeError\u001b[0m: 'module' object has no attribute 'substract'"
     ]
    }
   ],
   "source": [
    "%run outlier_cleaner.py"
   ]
  },
  {
   "cell_type": "code",
   "execution_count": 26,
   "metadata": {},
   "outputs": [
    {
     "name": "stdout",
     "output_type": "stream",
     "text": [
      "good\n"
     ]
    },
    {
     "ename": "NameError",
     "evalue": "global name 'diff' is not defined",
     "output_type": "error",
     "traceback": [
      "\u001b[1;31m---------------------------------------------------------------------------\u001b[0m",
      "\u001b[1;31mNameError\u001b[0m                                 Traceback (most recent call last)",
      "\u001b[1;32mC:\\Users\\binglu\\Documents\\py_code\\ML_Class\\ud120-projects\\outliers\\outlier_cleaner.py\u001b[0m in \u001b[0;36m<module>\u001b[1;34m()\u001b[0m\n\u001b[0;32m     39\u001b[0m \u001b[0mnet_worths\u001b[0m\u001b[1;33m=\u001b[0m\u001b[1;33m[\u001b[0m\u001b[1;36m1\u001b[0m\u001b[1;33m,\u001b[0m\u001b[1;36m6\u001b[0m\u001b[1;33m,\u001b[0m\u001b[1;36m4\u001b[0m\u001b[1;33m,\u001b[0m\u001b[1;36m2\u001b[0m\u001b[1;33m,\u001b[0m\u001b[1;36m7\u001b[0m\u001b[1;33m]\u001b[0m\u001b[1;33m\u001b[0m\u001b[0m\n\u001b[0;32m     40\u001b[0m \u001b[0mages\u001b[0m\u001b[1;33m=\u001b[0m\u001b[1;33m[\u001b[0m\u001b[1;36m1\u001b[0m\u001b[1;33m,\u001b[0m\u001b[1;36m2\u001b[0m\u001b[1;33m,\u001b[0m\u001b[1;36m3\u001b[0m\u001b[1;33m,\u001b[0m\u001b[1;36m4\u001b[0m\u001b[1;33m,\u001b[0m\u001b[1;36m5\u001b[0m\u001b[1;33m]\u001b[0m\u001b[1;33m\u001b[0m\u001b[0m\n\u001b[1;32m---> 41\u001b[1;33m \u001b[0moutlierCleaner\u001b[0m\u001b[1;33m(\u001b[0m\u001b[0mpred\u001b[0m\u001b[1;33m,\u001b[0m \u001b[0mages\u001b[0m\u001b[1;33m,\u001b[0m \u001b[0mnet_worths\u001b[0m\u001b[1;33m)\u001b[0m\u001b[1;33m\u001b[0m\u001b[0m\n\u001b[0m\u001b[0;32m     42\u001b[0m \u001b[1;32mprint\u001b[0m \u001b[0mpred\u001b[0m\u001b[1;33m\u001b[0m\u001b[0m\n\u001b[0;32m     43\u001b[0m \u001b[1;32mprint\u001b[0m \u001b[0mnet_worths\u001b[0m\u001b[1;33m\u001b[0m\u001b[0m\n",
      "\u001b[1;32mC:\\Users\\binglu\\Documents\\py_code\\ML_Class\\ud120-projects\\outliers\\outlier_cleaner.py\u001b[0m in \u001b[0;36moutlierCleaner\u001b[1;34m(predictions, ages, net_worths)\u001b[0m\n\u001b[0;32m     21\u001b[0m     \u001b[1;32mfor\u001b[0m \u001b[0mcounter\u001b[0m \u001b[1;32min\u001b[0m \u001b[0mrange\u001b[0m\u001b[1;33m(\u001b[0m\u001b[1;36m0\u001b[0m\u001b[1;33m,\u001b[0m\u001b[1;36m10\u001b[0m\u001b[1;33m)\u001b[0m\u001b[1;33m:\u001b[0m\u001b[1;33m\u001b[0m\u001b[0m\n\u001b[0;32m     22\u001b[0m                 \u001b[0mmax_pos\u001b[0m\u001b[1;33m=\u001b[0m\u001b[1;36m0\u001b[0m\u001b[1;33m\u001b[0m\u001b[0m\n\u001b[1;32m---> 23\u001b[1;33m                 \u001b[1;32mfor\u001b[0m \u001b[0mmax_error\u001b[0m \u001b[1;32min\u001b[0m \u001b[0mdiff\u001b[0m\u001b[1;33m:\u001b[0m\u001b[1;33m\u001b[0m\u001b[0m\n\u001b[0m\u001b[0;32m     24\u001b[0m                         \u001b[1;32mif\u001b[0m \u001b[0mmax_error\u001b[0m\u001b[1;33m==\u001b[0m\u001b[0mmax\u001b[0m\u001b[1;33m(\u001b[0m\u001b[0merror\u001b[0m\u001b[1;33m)\u001b[0m\u001b[1;33m:\u001b[0m\u001b[1;33m\u001b[0m\u001b[0m\n\u001b[0;32m     25\u001b[0m                                 \u001b[0mmax_pos\u001b[0m\u001b[1;33m=\u001b[0m\u001b[0mdiff\u001b[0m\u001b[1;33m.\u001b[0m\u001b[0mindex\u001b[0m\u001b[1;33m(\u001b[0m\u001b[0mmax_error\u001b[0m\u001b[1;33m)\u001b[0m\u001b[1;33m\u001b[0m\u001b[0m\n",
      "\u001b[1;31mNameError\u001b[0m: global name 'diff' is not defined"
     ]
    }
   ],
   "source": [
    "%run outlier_cleaner.py"
   ]
  },
  {
   "cell_type": "code",
   "execution_count": 27,
   "metadata": {},
   "outputs": [
    {
     "name": "stdout",
     "output_type": "stream",
     "text": [
      "good\n",
      "4 3\n"
     ]
    },
    {
     "ename": "NameError",
     "evalue": "global name 'prediction' is not defined",
     "output_type": "error",
     "traceback": [
      "\u001b[1;31m---------------------------------------------------------------------------\u001b[0m",
      "\u001b[1;31mNameError\u001b[0m                                 Traceback (most recent call last)",
      "\u001b[1;32mC:\\Users\\binglu\\Documents\\py_code\\ML_Class\\ud120-projects\\outliers\\outlier_cleaner.py\u001b[0m in \u001b[0;36m<module>\u001b[1;34m()\u001b[0m\n\u001b[0;32m     39\u001b[0m \u001b[0mnet_worths\u001b[0m\u001b[1;33m=\u001b[0m\u001b[1;33m[\u001b[0m\u001b[1;36m1\u001b[0m\u001b[1;33m,\u001b[0m\u001b[1;36m6\u001b[0m\u001b[1;33m,\u001b[0m\u001b[1;36m4\u001b[0m\u001b[1;33m,\u001b[0m\u001b[1;36m2\u001b[0m\u001b[1;33m,\u001b[0m\u001b[1;36m7\u001b[0m\u001b[1;33m]\u001b[0m\u001b[1;33m\u001b[0m\u001b[0m\n\u001b[0;32m     40\u001b[0m \u001b[0mages\u001b[0m\u001b[1;33m=\u001b[0m\u001b[1;33m[\u001b[0m\u001b[1;36m1\u001b[0m\u001b[1;33m,\u001b[0m\u001b[1;36m2\u001b[0m\u001b[1;33m,\u001b[0m\u001b[1;36m3\u001b[0m\u001b[1;33m,\u001b[0m\u001b[1;36m4\u001b[0m\u001b[1;33m,\u001b[0m\u001b[1;36m5\u001b[0m\u001b[1;33m]\u001b[0m\u001b[1;33m\u001b[0m\u001b[0m\n\u001b[1;32m---> 41\u001b[1;33m \u001b[0moutlierCleaner\u001b[0m\u001b[1;33m(\u001b[0m\u001b[0mpred\u001b[0m\u001b[1;33m,\u001b[0m \u001b[0mages\u001b[0m\u001b[1;33m,\u001b[0m \u001b[0mnet_worths\u001b[0m\u001b[1;33m)\u001b[0m\u001b[1;33m\u001b[0m\u001b[0m\n\u001b[0m\u001b[0;32m     42\u001b[0m \u001b[1;32mprint\u001b[0m \u001b[0mpred\u001b[0m\u001b[1;33m\u001b[0m\u001b[0m\n\u001b[0;32m     43\u001b[0m \u001b[1;32mprint\u001b[0m \u001b[0mnet_worths\u001b[0m\u001b[1;33m\u001b[0m\u001b[0m\n",
      "\u001b[1;32mC:\\Users\\binglu\\Documents\\py_code\\ML_Class\\ud120-projects\\outliers\\outlier_cleaner.py\u001b[0m in \u001b[0;36moutlierCleaner\u001b[1;34m(predictions, ages, net_worths)\u001b[0m\n\u001b[0;32m     26\u001b[0m                                 \u001b[1;32mprint\u001b[0m \u001b[0mmax_error\u001b[0m\u001b[1;33m,\u001b[0m\u001b[0mmax_pos\u001b[0m\u001b[1;33m\u001b[0m\u001b[0m\n\u001b[0;32m     27\u001b[0m                                 \u001b[0merror\u001b[0m\u001b[1;33m.\u001b[0m\u001b[0mremove\u001b[0m\u001b[1;33m(\u001b[0m\u001b[0merror\u001b[0m\u001b[1;33m[\u001b[0m\u001b[0mmax_pos\u001b[0m\u001b[1;33m]\u001b[0m\u001b[1;33m)\u001b[0m\u001b[1;33m\u001b[0m\u001b[0m\n\u001b[1;32m---> 28\u001b[1;33m                                 \u001b[0mpredictions\u001b[0m\u001b[1;33m.\u001b[0m\u001b[0mremove\u001b[0m\u001b[1;33m(\u001b[0m\u001b[0mprediction\u001b[0m\u001b[1;33m[\u001b[0m\u001b[0mmax_pos\u001b[0m\u001b[1;33m]\u001b[0m\u001b[1;33m)\u001b[0m\u001b[1;33m\u001b[0m\u001b[0m\n\u001b[0m\u001b[0;32m     29\u001b[0m                                 \u001b[0mages\u001b[0m\u001b[1;33m.\u001b[0m\u001b[0mremove\u001b[0m\u001b[1;33m(\u001b[0m\u001b[0mages\u001b[0m\u001b[1;33m[\u001b[0m\u001b[0mmax_pos\u001b[0m\u001b[1;33m]\u001b[0m\u001b[1;33m)\u001b[0m\u001b[1;33m\u001b[0m\u001b[0m\n\u001b[0;32m     30\u001b[0m                                 \u001b[0mnet_worths\u001b[0m\u001b[1;33m.\u001b[0m\u001b[0mremove\u001b[0m\u001b[1;33m(\u001b[0m\u001b[0mnet_worths\u001b[0m\u001b[1;33m[\u001b[0m\u001b[0mmax_pos\u001b[0m\u001b[1;33m]\u001b[0m\u001b[1;33m)\u001b[0m\u001b[1;33m\u001b[0m\u001b[0m\n",
      "\u001b[1;31mNameError\u001b[0m: global name 'prediction' is not defined"
     ]
    }
   ],
   "source": [
    "%run outlier_cleaner.py"
   ]
  },
  {
   "cell_type": "code",
   "execution_count": 28,
   "metadata": {},
   "outputs": [
    {
     "name": "stdout",
     "output_type": "stream",
     "text": [
      "good\n",
      "4 3\n",
      "1\n",
      "3 0\n",
      "2\n",
      "3 0\n",
      "3\n",
      "2 0\n",
      "4\n",
      "1 0\n",
      "5\n",
      "6\n",
      "7\n",
      "8\n",
      "9\n",
      "10\n"
     ]
    },
    {
     "ename": "NameError",
     "evalue": "global name 'age' is not defined",
     "output_type": "error",
     "traceback": [
      "\u001b[1;31m---------------------------------------------------------------------------\u001b[0m",
      "\u001b[1;31mNameError\u001b[0m                                 Traceback (most recent call last)",
      "\u001b[1;32mC:\\Users\\binglu\\Documents\\py_code\\ML_Class\\ud120-projects\\outliers\\outlier_cleaner.py\u001b[0m in \u001b[0;36m<module>\u001b[1;34m()\u001b[0m\n\u001b[0;32m     39\u001b[0m \u001b[0mnet_worths\u001b[0m\u001b[1;33m=\u001b[0m\u001b[1;33m[\u001b[0m\u001b[1;36m1\u001b[0m\u001b[1;33m,\u001b[0m\u001b[1;36m6\u001b[0m\u001b[1;33m,\u001b[0m\u001b[1;36m4\u001b[0m\u001b[1;33m,\u001b[0m\u001b[1;36m2\u001b[0m\u001b[1;33m,\u001b[0m\u001b[1;36m7\u001b[0m\u001b[1;33m]\u001b[0m\u001b[1;33m\u001b[0m\u001b[0m\n\u001b[0;32m     40\u001b[0m \u001b[0mages\u001b[0m\u001b[1;33m=\u001b[0m\u001b[1;33m[\u001b[0m\u001b[1;36m1\u001b[0m\u001b[1;33m,\u001b[0m\u001b[1;36m2\u001b[0m\u001b[1;33m,\u001b[0m\u001b[1;36m3\u001b[0m\u001b[1;33m,\u001b[0m\u001b[1;36m4\u001b[0m\u001b[1;33m,\u001b[0m\u001b[1;36m5\u001b[0m\u001b[1;33m]\u001b[0m\u001b[1;33m\u001b[0m\u001b[0m\n\u001b[1;32m---> 41\u001b[1;33m \u001b[0moutlierCleaner\u001b[0m\u001b[1;33m(\u001b[0m\u001b[0mpred\u001b[0m\u001b[1;33m,\u001b[0m \u001b[0mages\u001b[0m\u001b[1;33m,\u001b[0m \u001b[0mnet_worths\u001b[0m\u001b[1;33m)\u001b[0m\u001b[1;33m\u001b[0m\u001b[0m\n\u001b[0m\u001b[0;32m     42\u001b[0m \u001b[1;32mprint\u001b[0m \u001b[0mpred\u001b[0m\u001b[1;33m\u001b[0m\u001b[0m\n\u001b[0;32m     43\u001b[0m \u001b[1;32mprint\u001b[0m \u001b[0mnet_worths\u001b[0m\u001b[1;33m\u001b[0m\u001b[0m\n",
      "\u001b[1;32mC:\\Users\\binglu\\Documents\\py_code\\ML_Class\\ud120-projects\\outliers\\outlier_cleaner.py\u001b[0m in \u001b[0;36moutlierCleaner\u001b[1;34m(predictions, ages, net_worths)\u001b[0m\n\u001b[0;32m     32\u001b[0m                 \u001b[1;32mprint\u001b[0m \u001b[0mcounter\u001b[0m\u001b[1;33m\u001b[0m\u001b[0m\n\u001b[0;32m     33\u001b[0m \u001b[1;33m\u001b[0m\u001b[0m\n\u001b[1;32m---> 34\u001b[1;33m     \u001b[0mcleaned_data\u001b[0m\u001b[1;33m=\u001b[0m\u001b[1;33m[\u001b[0m\u001b[0mlist\u001b[0m\u001b[1;33m(\u001b[0m\u001b[0mx\u001b[0m\u001b[1;33m)\u001b[0m \u001b[1;32mfor\u001b[0m \u001b[0mx\u001b[0m \u001b[1;32min\u001b[0m \u001b[0mizip\u001b[0m\u001b[1;33m(\u001b[0m\u001b[0mage\u001b[0m\u001b[1;33m,\u001b[0m \u001b[0mnet_worths\u001b[0m\u001b[1;33m,\u001b[0m \u001b[0merror\u001b[0m\u001b[1;33m)\u001b[0m\u001b[1;33m]\u001b[0m\u001b[1;33m\u001b[0m\u001b[0m\n\u001b[0m\u001b[0;32m     35\u001b[0m     \u001b[1;32mreturn\u001b[0m \u001b[0mcleaned_data\u001b[0m\u001b[1;33m\u001b[0m\u001b[0m\n\u001b[0;32m     36\u001b[0m \u001b[1;33m\u001b[0m\u001b[0m\n",
      "\u001b[1;31mNameError\u001b[0m: global name 'age' is not defined"
     ]
    }
   ],
   "source": [
    "%run outlier_cleaner.py"
   ]
  },
  {
   "cell_type": "code",
   "execution_count": 29,
   "metadata": {},
   "outputs": [
    {
     "name": "stdout",
     "output_type": "stream",
     "text": [
      "good\n",
      "4 3\n",
      "1\n",
      "3 0\n",
      "2\n",
      "3 0\n",
      "3\n",
      "2 0\n",
      "4\n",
      "1 0\n",
      "5\n",
      "6\n",
      "7\n",
      "8\n",
      "9\n",
      "10\n",
      "[]\n",
      "[]\n",
      "[]\n"
     ]
    }
   ],
   "source": [
    "%run outlier_cleaner.py"
   ]
  },
  {
   "cell_type": "code",
   "execution_count": 30,
   "metadata": {},
   "outputs": [
    {
     "name": "stdout",
     "output_type": "stream",
     "text": [
      "4 3\n",
      "1\n",
      "3 0\n",
      "2\n",
      "3 0\n",
      "3\n",
      "[2, 8]\n",
      "[4, 7]\n",
      "[3, 5]\n"
     ]
    }
   ],
   "source": [
    "%run outlier_cleaner.py"
   ]
  },
  {
   "cell_type": "code",
   "execution_count": 31,
   "metadata": {},
   "outputs": [
    {
     "name": "stdout",
     "output_type": "stream",
     "text": [
      "4 3\n",
      "1\n",
      "3 0\n",
      "2\n",
      "3 0\n",
      "3\n",
      "[2, 8]\n",
      "[4, 7]\n",
      "[3, 5]\n"
     ]
    },
    {
     "ename": "NameError",
     "evalue": "name 'cleaned_data' is not defined",
     "output_type": "error",
     "traceback": [
      "\u001b[1;31m---------------------------------------------------------------------------\u001b[0m",
      "\u001b[1;31mNameError\u001b[0m                                 Traceback (most recent call last)",
      "\u001b[1;32mC:\\Users\\binglu\\Documents\\py_code\\ML_Class\\ud120-projects\\outliers\\outlier_cleaner.py\u001b[0m in \u001b[0;36m<module>\u001b[1;34m()\u001b[0m\n\u001b[0;32m     43\u001b[0m \u001b[1;32mprint\u001b[0m \u001b[0mnet_worths\u001b[0m\u001b[1;33m\u001b[0m\u001b[0m\n\u001b[0;32m     44\u001b[0m \u001b[1;32mprint\u001b[0m \u001b[0mages\u001b[0m\u001b[1;33m\u001b[0m\u001b[0m\n\u001b[1;32m---> 45\u001b[1;33m \u001b[1;32mprint\u001b[0m \u001b[0mcleaned_data\u001b[0m\u001b[1;33m\u001b[0m\u001b[0m\n\u001b[0m",
      "\u001b[1;31mNameError\u001b[0m: name 'cleaned_data' is not defined"
     ]
    }
   ],
   "source": [
    "%run outlier_cleaner.py"
   ]
  },
  {
   "cell_type": "code",
   "execution_count": 32,
   "metadata": {},
   "outputs": [
    {
     "name": "stdout",
     "output_type": "stream",
     "text": [
      "4 3\n",
      "1\n",
      "3 0\n",
      "2\n",
      "3 0\n",
      "3\n",
      "[2, 8]\n",
      "[4, 7]\n",
      "[3, 5]\n",
      "[[3, 4, 2], [5, 7, 1]]\n"
     ]
    }
   ],
   "source": [
    "%run outlier_cleaner.py"
   ]
  },
  {
   "cell_type": "code",
   "execution_count": 33,
   "metadata": {},
   "outputs": [
    {
     "name": "stdout",
     "output_type": "stream",
     "text": [
      "Slope is: [[5.07793064]]\n",
      "Intercept is: [25.21002155]\n",
      "0.8782624703664675\n"
     ]
    },
    {
     "data": {
      "image/png": "[encoded data removed]",
      "text/plain": [
       "<matplotlib.figure.Figure at 0xc144518>"
      ]
     },
     "metadata": {},
     "output_type": "display_data"
    },
    {
     "name": "stdout",
     "output_type": "stream",
     "text": [
      "outlierCleaner() is returning an empty list, no refitting to be done\n"
     ]
    }
   ],
   "source": [
    "%run outlier_removal_regression_Lucy"
   ]
  },
  {
   "cell_type": "code",
   "execution_count": 34,
   "metadata": {},
   "outputs": [
    {
     "name": "stdout",
     "output_type": "stream",
     "text": [
      "Slope is: [[5.07793064]]\n",
      "Intercept is: [25.21002155]\n",
      "0.8782624703664675\n"
     ]
    },
    {
     "data": {
      "image/png": "[encoded data removed]",
      "text/plain": [
       "<matplotlib.figure.Figure at 0xca311d0>"
      ]
     },
     "metadata": {},
     "output_type": "display_data"
    },
    {
     "ename": "NameError",
     "evalue": "name 'predictions' is not defined",
     "output_type": "error",
     "traceback": [
      "\u001b[1;31m---------------------------------------------------------------------------\u001b[0m",
      "\u001b[1;31mNameError\u001b[0m                                 Traceback (most recent call last)",
      "\u001b[1;32mC:\\Users\\binglu\\Documents\\py_code\\ML_Class\\ud120-projects\\outliers\\outlier_removal_regression_Lucy.py\u001b[0m in \u001b[0;36m<module>\u001b[1;34m()\u001b[0m\n\u001b[0;32m     53\u001b[0m \u001b[0mplt\u001b[0m\u001b[1;33m.\u001b[0m\u001b[0mshow\u001b[0m\u001b[1;33m(\u001b[0m\u001b[1;33m)\u001b[0m\u001b[1;33m\u001b[0m\u001b[0m\n\u001b[0;32m     54\u001b[0m \u001b[1;33m\u001b[0m\u001b[0m\n\u001b[1;32m---> 55\u001b[1;33m \u001b[1;32mprint\u001b[0m \u001b[0mpredictions\u001b[0m\u001b[1;33m\u001b[0m\u001b[0m\n\u001b[0m\u001b[0;32m     56\u001b[0m \u001b[1;32mprint\u001b[0m \u001b[0mages_train\u001b[0m\u001b[1;33m\u001b[0m\u001b[0m\n\u001b[0;32m     57\u001b[0m \u001b[1;32mprint\u001b[0m \u001b[0mnet_worths_train\u001b[0m\u001b[1;33m\u001b[0m\u001b[0m\n",
      "\u001b[1;31mNameError\u001b[0m: name 'predictions' is not defined"
     ]
    }
   ],
   "source": [
    "%run outlier_removal_regression_Lucy"
   ]
  },
  {
   "cell_type": "code",
   "execution_count": 35,
   "metadata": {},
   "outputs": [
    {
     "name": "stdout",
     "output_type": "stream",
     "text": [
      "Slope is: [[5.07793064]]\n",
      "Intercept is: [25.21002155]\n",
      "0.8782624703664675\n"
     ]
    },
    {
     "data": {
      "image/png": "[encoded data removed]",
      "text/plain": [
       "<matplotlib.figure.Figure at 0xca1a358>"
      ]
     },
     "metadata": {},
     "output_type": "display_data"
    },
    {
     "name": "stdout",
     "output_type": "stream",
     "text": [
      "[[314.65206822]\n",
      " [314.65206822]\n",
      " [197.85966342]\n",
      " [350.19758273]\n",
      " [152.15828763]\n",
      " [294.34034565]\n",
      " [340.04172144]\n",
      " [233.40517793]\n",
      " [131.84656506]\n",
      " [294.34034565]\n",
      " [268.95069243]\n",
      " [147.08035699]\n",
      " [147.08035699]\n",
      " [177.54794085]\n",
      " [187.70380214]\n",
      " [253.7169005 ]\n",
      " [289.262415  ]\n",
      " [355.27551337]\n",
      " [131.84656506]\n",
      " [329.88586015]\n",
      " [243.56103921]\n",
      " [187.70380214]\n",
      " [177.54794085]\n",
      " [319.72999887]\n",
      " [223.24931664]\n",
      " [284.18448436]\n",
      " [177.54794085]\n",
      " [304.49620693]\n",
      " [253.7169005 ]\n",
      " [177.54794085]\n",
      " [208.01552471]\n",
      " [213.09345535]\n",
      " [142.00242634]\n",
      " [213.09345535]\n",
      " [147.08035699]\n",
      " [126.76863441]\n",
      " [187.70380214]\n",
      " [202.93759407]\n",
      " [253.7169005 ]\n",
      " [172.47001021]\n",
      " [350.19758273]\n",
      " [177.54794085]\n",
      " [263.87276179]\n",
      " [324.80792951]\n",
      " [223.24931664]\n",
      " [187.70380214]\n",
      " [334.9637908 ]\n",
      " [319.72999887]\n",
      " [319.72999887]\n",
      " [136.9244957 ]\n",
      " [162.31414892]\n",
      " [324.80792951]\n",
      " [274.02862307]\n",
      " [192.78173278]\n",
      " [213.09345535]\n",
      " [131.84656506]\n",
      " [147.08035699]\n",
      " [197.85966342]\n",
      " [274.02862307]\n",
      " [248.63896986]\n",
      " [182.62587149]\n",
      " [136.9244957 ]\n",
      " [162.31414892]\n",
      " [274.02862307]\n",
      " [350.19758273]\n",
      " [294.34034565]\n",
      " [218.171386  ]\n",
      " [248.63896986]\n",
      " [136.9244957 ]\n",
      " [213.09345535]\n",
      " [284.18448436]\n",
      " [218.171386  ]\n",
      " [268.95069243]\n",
      " [263.87276179]\n",
      " [131.84656506]\n",
      " [187.70380214]\n",
      " [289.262415  ]\n",
      " [187.70380214]\n",
      " [162.31414892]\n",
      " [243.56103921]\n",
      " [268.95069243]\n",
      " [279.10655372]\n",
      " [355.27551337]\n",
      " [258.79483114]\n",
      " [314.65206822]\n",
      " [355.27551337]\n",
      " [345.11965208]\n",
      " [274.02862307]\n",
      " [309.57413758]\n",
      " [172.47001021]]\n",
      "[[57]\n",
      " [57]\n",
      " [34]\n",
      " [64]\n",
      " [25]\n",
      " [53]\n",
      " [62]\n",
      " [41]\n",
      " [21]\n",
      " [53]\n",
      " [48]\n",
      " [24]\n",
      " [24]\n",
      " [30]\n",
      " [32]\n",
      " [45]\n",
      " [52]\n",
      " [65]\n",
      " [21]\n",
      " [60]\n",
      " [43]\n",
      " [32]\n",
      " [30]\n",
      " [58]\n",
      " [39]\n",
      " [51]\n",
      " [30]\n",
      " [55]\n",
      " [45]\n",
      " [30]\n",
      " [36]\n",
      " [37]\n",
      " [23]\n",
      " [37]\n",
      " [24]\n",
      " [20]\n",
      " [32]\n",
      " [35]\n",
      " [45]\n",
      " [29]\n",
      " [64]\n",
      " [30]\n",
      " [47]\n",
      " [59]\n",
      " [39]\n",
      " [32]\n",
      " [61]\n",
      " [58]\n",
      " [58]\n",
      " [22]\n",
      " [27]\n",
      " [59]\n",
      " [49]\n",
      " [33]\n",
      " [37]\n",
      " [21]\n",
      " [24]\n",
      " [34]\n",
      " [49]\n",
      " [44]\n",
      " [31]\n",
      " [22]\n",
      " [27]\n",
      " [49]\n",
      " [64]\n",
      " [53]\n",
      " [38]\n",
      " [44]\n",
      " [22]\n",
      " [37]\n",
      " [51]\n",
      " [38]\n",
      " [48]\n",
      " [47]\n",
      " [21]\n",
      " [32]\n",
      " [52]\n",
      " [32]\n",
      " [27]\n",
      " [43]\n",
      " [48]\n",
      " [50]\n",
      " [65]\n",
      " [46]\n",
      " [57]\n",
      " [65]\n",
      " [63]\n",
      " [49]\n",
      " [56]\n",
      " [29]]\n",
      "[[338.08951849]\n",
      " [344.21586776]\n",
      " [243.79287312]\n",
      " [378.84578142]\n",
      " [133.88384977]\n",
      " [326.56693251]\n",
      " [389.24094136]\n",
      " [250.26985299]\n",
      " [136.08924543]\n",
      " [368.29556369]\n",
      " [318.62560238]\n",
      " [139.40479592]\n",
      " [126.98012845]\n",
      " [185.18703435]\n",
      " [187.09760491]\n",
      " [270.00424942]\n",
      " [339.7693316 ]\n",
      " [ 34.19027438]\n",
      " [142.10120087]\n",
      " [374.28347922]\n",
      " [259.43540493]\n",
      " [221.14244452]\n",
      " [177.46485913]\n",
      " [350.4872262 ]\n",
      " [134.41369499]\n",
      " [314.06726086]\n",
      " [186.05979757]\n",
      " [370.87480057]\n",
      " [256.833127  ]\n",
      " [167.24337759]\n",
      " [189.73919689]\n",
      " [247.70089824]\n",
      " [159.09869458]\n",
      " [ 16.50778868]\n",
      " [157.51396037]\n",
      " [ 96.75392597]\n",
      " [207.14225143]\n",
      " [220.96845179]\n",
      " [259.12330052]\n",
      " [142.98439511]\n",
      " [389.11234551]\n",
      " [217.96059713]\n",
      " [300.03494665]\n",
      " [342.18627902]\n",
      " [234.36051228]\n",
      " [201.83521553]\n",
      " [412.83425631]\n",
      " [378.75051645]\n",
      " [366.6772719 ]\n",
      " [147.76534866]\n",
      " [151.96564954]\n",
      " [129.10958749]\n",
      " [326.86999045]\n",
      " [200.22792609]\n",
      " [237.73167939]\n",
      " [151.32065796]\n",
      " [140.78722458]\n",
      " [219.7327205 ]\n",
      " [302.53682047]\n",
      " [ 64.06616829]\n",
      " [153.99862171]\n",
      " [140.92736562]\n",
      " [175.37526863]\n",
      " [313.12236579]\n",
      " [122.70221489]\n",
      " [325.06575248]\n",
      " [253.93805009]\n",
      " [274.73005551]\n",
      " [ 47.70052125]\n",
      " [250.76090254]\n",
      " [294.82586752]\n",
      " [221.33012794]\n",
      " [260.80659752]\n",
      " [287.916125  ]\n",
      " [128.48471398]\n",
      " [186.46155999]\n",
      " [320.48447399]\n",
      " [212.95377076]\n",
      " [140.25503628]\n",
      " [275.32502219]\n",
      " [ 80.90133629]\n",
      " [260.10509792]\n",
      " [424.55804235]\n",
      " [317.05788089]\n",
      " [385.56297538]\n",
      " [396.66651524]\n",
      " [424.51073133]\n",
      " [271.75164335]\n",
      " [121.11602327]\n",
      " [173.54835439]]\n",
      "outlierCleaner() is returning an empty list, no refitting to be done\n"
     ]
    }
   ],
   "source": [
    "%run outlier_removal_regression_Lucy"
   ]
  },
  {
   "cell_type": "code",
   "execution_count": 36,
   "metadata": {},
   "outputs": [
    {
     "name": "stdout",
     "output_type": "stream",
     "text": [
      "Slope is: [[5.07793064]]\n",
      "Intercept is: [25.21002155]\n",
      "0.8782624703664675\n"
     ]
    },
    {
     "data": {
      "image/png": "[encoded data removed]",
      "text/plain": [
       "<matplotlib.figure.Figure at 0xc7e8780>"
      ]
     },
     "metadata": {},
     "output_type": "display_data"
    },
    {
     "name": "stdout",
     "output_type": "stream",
     "text": [
      "[[314.65206822]\n",
      " [314.65206822]\n",
      " [197.85966342]\n",
      " [350.19758273]\n",
      " [152.15828763]\n",
      " [294.34034565]\n",
      " [340.04172144]\n",
      " [233.40517793]\n",
      " [131.84656506]\n",
      " [294.34034565]\n",
      " [268.95069243]\n",
      " [147.08035699]\n",
      " [147.08035699]\n",
      " [177.54794085]\n",
      " [187.70380214]\n",
      " [253.7169005 ]\n",
      " [289.262415  ]\n",
      " [355.27551337]\n",
      " [131.84656506]\n",
      " [329.88586015]\n",
      " [243.56103921]\n",
      " [187.70380214]\n",
      " [177.54794085]\n",
      " [319.72999887]\n",
      " [223.24931664]\n",
      " [284.18448436]\n",
      " [177.54794085]\n",
      " [304.49620693]\n",
      " [253.7169005 ]\n",
      " [177.54794085]\n",
      " [208.01552471]\n",
      " [213.09345535]\n",
      " [142.00242634]\n",
      " [213.09345535]\n",
      " [147.08035699]\n",
      " [126.76863441]\n",
      " [187.70380214]\n",
      " [202.93759407]\n",
      " [253.7169005 ]\n",
      " [172.47001021]\n",
      " [350.19758273]\n",
      " [177.54794085]\n",
      " [263.87276179]\n",
      " [324.80792951]\n",
      " [223.24931664]\n",
      " [187.70380214]\n",
      " [334.9637908 ]\n",
      " [319.72999887]\n",
      " [319.72999887]\n",
      " [136.9244957 ]\n",
      " [162.31414892]\n",
      " [324.80792951]\n",
      " [274.02862307]\n",
      " [192.78173278]\n",
      " [213.09345535]\n",
      " [131.84656506]\n",
      " [147.08035699]\n",
      " [197.85966342]\n",
      " [274.02862307]\n",
      " [248.63896986]\n",
      " [182.62587149]\n",
      " [136.9244957 ]\n",
      " [162.31414892]\n",
      " [274.02862307]\n",
      " [350.19758273]\n",
      " [294.34034565]\n",
      " [218.171386  ]\n",
      " [248.63896986]\n",
      " [136.9244957 ]\n",
      " [213.09345535]\n",
      " [284.18448436]\n",
      " [218.171386  ]\n",
      " [268.95069243]\n",
      " [263.87276179]\n",
      " [131.84656506]\n",
      " [187.70380214]\n",
      " [289.262415  ]\n",
      " [187.70380214]\n",
      " [162.31414892]\n",
      " [243.56103921]\n",
      " [268.95069243]\n",
      " [279.10655372]\n",
      " [355.27551337]\n",
      " [258.79483114]\n",
      " [314.65206822]\n",
      " [355.27551337]\n",
      " [345.11965208]\n",
      " [274.02862307]\n",
      " [309.57413758]\n",
      " [172.47001021]]\n",
      "[[57]\n",
      " [57]\n",
      " [34]\n",
      " [64]\n",
      " [25]\n",
      " [53]\n",
      " [62]\n",
      " [41]\n",
      " [21]\n",
      " [53]\n",
      " [48]\n",
      " [24]\n",
      " [24]\n",
      " [30]\n",
      " [32]\n",
      " [45]\n",
      " [52]\n",
      " [65]\n",
      " [21]\n",
      " [60]\n",
      " [43]\n",
      " [32]\n",
      " [30]\n",
      " [58]\n",
      " [39]\n",
      " [51]\n",
      " [30]\n",
      " [55]\n",
      " [45]\n",
      " [30]\n",
      " [36]\n",
      " [37]\n",
      " [23]\n",
      " [37]\n",
      " [24]\n",
      " [20]\n",
      " [32]\n",
      " [35]\n",
      " [45]\n",
      " [29]\n",
      " [64]\n",
      " [30]\n",
      " [47]\n",
      " [59]\n",
      " [39]\n",
      " [32]\n",
      " [61]\n",
      " [58]\n",
      " [58]\n",
      " [22]\n",
      " [27]\n",
      " [59]\n",
      " [49]\n",
      " [33]\n",
      " [37]\n",
      " [21]\n",
      " [24]\n",
      " [34]\n",
      " [49]\n",
      " [44]\n",
      " [31]\n",
      " [22]\n",
      " [27]\n",
      " [49]\n",
      " [64]\n",
      " [53]\n",
      " [38]\n",
      " [44]\n",
      " [22]\n",
      " [37]\n",
      " [51]\n",
      " [38]\n",
      " [48]\n",
      " [47]\n",
      " [21]\n",
      " [32]\n",
      " [52]\n",
      " [32]\n",
      " [27]\n",
      " [43]\n",
      " [48]\n",
      " [50]\n",
      " [65]\n",
      " [46]\n",
      " [57]\n",
      " [65]\n",
      " [63]\n",
      " [49]\n",
      " [56]\n",
      " [29]]\n",
      "[[338.08951849]\n",
      " [344.21586776]\n",
      " [243.79287312]\n",
      " [378.84578142]\n",
      " [133.88384977]\n",
      " [326.56693251]\n",
      " [389.24094136]\n",
      " [250.26985299]\n",
      " [136.08924543]\n",
      " [368.29556369]\n",
      " [318.62560238]\n",
      " [139.40479592]\n",
      " [126.98012845]\n",
      " [185.18703435]\n",
      " [187.09760491]\n",
      " [270.00424942]\n",
      " [339.7693316 ]\n",
      " [ 34.19027438]\n",
      " [142.10120087]\n",
      " [374.28347922]\n",
      " [259.43540493]\n",
      " [221.14244452]\n",
      " [177.46485913]\n",
      " [350.4872262 ]\n",
      " [134.41369499]\n",
      " [314.06726086]\n",
      " [186.05979757]\n",
      " [370.87480057]\n",
      " [256.833127  ]\n",
      " [167.24337759]\n",
      " [189.73919689]\n",
      " [247.70089824]\n",
      " [159.09869458]\n",
      " [ 16.50778868]\n",
      " [157.51396037]\n",
      " [ 96.75392597]\n",
      " [207.14225143]\n",
      " [220.96845179]\n",
      " [259.12330052]\n",
      " [142.98439511]\n",
      " [389.11234551]\n",
      " [217.96059713]\n",
      " [300.03494665]\n",
      " [342.18627902]\n",
      " [234.36051228]\n",
      " [201.83521553]\n",
      " [412.83425631]\n",
      " [378.75051645]\n",
      " [366.6772719 ]\n",
      " [147.76534866]\n",
      " [151.96564954]\n",
      " [129.10958749]\n",
      " [326.86999045]\n",
      " [200.22792609]\n",
      " [237.73167939]\n",
      " [151.32065796]\n",
      " [140.78722458]\n",
      " [219.7327205 ]\n",
      " [302.53682047]\n",
      " [ 64.06616829]\n",
      " [153.99862171]\n",
      " [140.92736562]\n",
      " [175.37526863]\n",
      " [313.12236579]\n",
      " [122.70221489]\n",
      " [325.06575248]\n",
      " [253.93805009]\n",
      " [274.73005551]\n",
      " [ 47.70052125]\n",
      " [250.76090254]\n",
      " [294.82586752]\n",
      " [221.33012794]\n",
      " [260.80659752]\n",
      " [287.916125  ]\n",
      " [128.48471398]\n",
      " [186.46155999]\n",
      " [320.48447399]\n",
      " [212.95377076]\n",
      " [140.25503628]\n",
      " [275.32502219]\n",
      " [ 80.90133629]\n",
      " [260.10509792]\n",
      " [424.55804235]\n",
      " [317.05788089]\n",
      " [385.56297538]\n",
      " [396.66651524]\n",
      " [424.51073133]\n",
      " [271.75164335]\n",
      " [121.11602327]\n",
      " [173.54835439]]\n",
      "outlierCleaner() is returning an empty list, no refitting to be done\n"
     ]
    }
   ],
   "source": [
    "%run outlier_removal_regression_Lucy"
   ]
  },
  {
   "cell_type": "code",
   "execution_count": 37,
   "metadata": {},
   "outputs": [
    {
     "name": "stdout",
     "output_type": "stream",
     "text": [
      "Slope is: [[5.07793064]]\n",
      "Intercept is: [25.21002155]\n",
      "0.8782624703664675\n"
     ]
    },
    {
     "data": {
      "image/png": "[encoded data removed]",
      "text/plain": [
       "<matplotlib.figure.Figure at 0xc5f6860>"
      ]
     },
     "metadata": {},
     "output_type": "display_data"
    },
    {
     "name": "stdout",
     "output_type": "stream",
     "text": [
      "[[314.65206822]\n",
      " [314.65206822]\n",
      " [197.85966342]\n",
      " [350.19758273]\n",
      " [152.15828763]\n",
      " [294.34034565]\n",
      " [340.04172144]\n",
      " [233.40517793]\n",
      " [131.84656506]\n",
      " [294.34034565]\n",
      " [268.95069243]\n",
      " [147.08035699]\n",
      " [147.08035699]\n",
      " [177.54794085]\n",
      " [187.70380214]\n",
      " [253.7169005 ]\n",
      " [289.262415  ]\n",
      " [355.27551337]\n",
      " [131.84656506]\n",
      " [329.88586015]\n",
      " [243.56103921]\n",
      " [187.70380214]\n",
      " [177.54794085]\n",
      " [319.72999887]\n",
      " [223.24931664]\n",
      " [284.18448436]\n",
      " [177.54794085]\n",
      " [304.49620693]\n",
      " [253.7169005 ]\n",
      " [177.54794085]\n",
      " [208.01552471]\n",
      " [213.09345535]\n",
      " [142.00242634]\n",
      " [213.09345535]\n",
      " [147.08035699]\n",
      " [126.76863441]\n",
      " [187.70380214]\n",
      " [202.93759407]\n",
      " [253.7169005 ]\n",
      " [172.47001021]\n",
      " [350.19758273]\n",
      " [177.54794085]\n",
      " [263.87276179]\n",
      " [324.80792951]\n",
      " [223.24931664]\n",
      " [187.70380214]\n",
      " [334.9637908 ]\n",
      " [319.72999887]\n",
      " [319.72999887]\n",
      " [136.9244957 ]\n",
      " [162.31414892]\n",
      " [324.80792951]\n",
      " [274.02862307]\n",
      " [192.78173278]\n",
      " [213.09345535]\n",
      " [131.84656506]\n",
      " [147.08035699]\n",
      " [197.85966342]\n",
      " [274.02862307]\n",
      " [248.63896986]\n",
      " [182.62587149]\n",
      " [136.9244957 ]\n",
      " [162.31414892]\n",
      " [274.02862307]\n",
      " [350.19758273]\n",
      " [294.34034565]\n",
      " [218.171386  ]\n",
      " [248.63896986]\n",
      " [136.9244957 ]\n",
      " [213.09345535]\n",
      " [284.18448436]\n",
      " [218.171386  ]\n",
      " [268.95069243]\n",
      " [263.87276179]\n",
      " [131.84656506]\n",
      " [187.70380214]\n",
      " [289.262415  ]\n",
      " [187.70380214]\n",
      " [162.31414892]\n",
      " [243.56103921]\n",
      " [268.95069243]\n",
      " [279.10655372]\n",
      " [355.27551337]\n",
      " [258.79483114]\n",
      " [314.65206822]\n",
      " [355.27551337]\n",
      " [345.11965208]\n",
      " [274.02862307]\n",
      " [309.57413758]\n",
      " [172.47001021]]\n",
      "[[57]\n",
      " [57]\n",
      " [34]\n",
      " [64]\n",
      " [25]\n",
      " [53]\n",
      " [62]\n",
      " [41]\n",
      " [21]\n",
      " [53]\n",
      " [48]\n",
      " [24]\n",
      " [24]\n",
      " [30]\n",
      " [32]\n",
      " [45]\n",
      " [52]\n",
      " [65]\n",
      " [21]\n",
      " [60]\n",
      " [43]\n",
      " [32]\n",
      " [30]\n",
      " [58]\n",
      " [39]\n",
      " [51]\n",
      " [30]\n",
      " [55]\n",
      " [45]\n",
      " [30]\n",
      " [36]\n",
      " [37]\n",
      " [23]\n",
      " [37]\n",
      " [24]\n",
      " [20]\n",
      " [32]\n",
      " [35]\n",
      " [45]\n",
      " [29]\n",
      " [64]\n",
      " [30]\n",
      " [47]\n",
      " [59]\n",
      " [39]\n",
      " [32]\n",
      " [61]\n",
      " [58]\n",
      " [58]\n",
      " [22]\n",
      " [27]\n",
      " [59]\n",
      " [49]\n",
      " [33]\n",
      " [37]\n",
      " [21]\n",
      " [24]\n",
      " [34]\n",
      " [49]\n",
      " [44]\n",
      " [31]\n",
      " [22]\n",
      " [27]\n",
      " [49]\n",
      " [64]\n",
      " [53]\n",
      " [38]\n",
      " [44]\n",
      " [22]\n",
      " [37]\n",
      " [51]\n",
      " [38]\n",
      " [48]\n",
      " [47]\n",
      " [21]\n",
      " [32]\n",
      " [52]\n",
      " [32]\n",
      " [27]\n",
      " [43]\n",
      " [48]\n",
      " [50]\n",
      " [65]\n",
      " [46]\n",
      " [57]\n",
      " [65]\n",
      " [63]\n",
      " [49]\n",
      " [56]\n",
      " [29]]\n",
      "[[338.08951849]\n",
      " [344.21586776]\n",
      " [243.79287312]\n",
      " [378.84578142]\n",
      " [133.88384977]\n",
      " [326.56693251]\n",
      " [389.24094136]\n",
      " [250.26985299]\n",
      " [136.08924543]\n",
      " [368.29556369]\n",
      " [318.62560238]\n",
      " [139.40479592]\n",
      " [126.98012845]\n",
      " [185.18703435]\n",
      " [187.09760491]\n",
      " [270.00424942]\n",
      " [339.7693316 ]\n",
      " [ 34.19027438]\n",
      " [142.10120087]\n",
      " [374.28347922]\n",
      " [259.43540493]\n",
      " [221.14244452]\n",
      " [177.46485913]\n",
      " [350.4872262 ]\n",
      " [134.41369499]\n",
      " [314.06726086]\n",
      " [186.05979757]\n",
      " [370.87480057]\n",
      " [256.833127  ]\n",
      " [167.24337759]\n",
      " [189.73919689]\n",
      " [247.70089824]\n",
      " [159.09869458]\n",
      " [ 16.50778868]\n",
      " [157.51396037]\n",
      " [ 96.75392597]\n",
      " [207.14225143]\n",
      " [220.96845179]\n",
      " [259.12330052]\n",
      " [142.98439511]\n",
      " [389.11234551]\n",
      " [217.96059713]\n",
      " [300.03494665]\n",
      " [342.18627902]\n",
      " [234.36051228]\n",
      " [201.83521553]\n",
      " [412.83425631]\n",
      " [378.75051645]\n",
      " [366.6772719 ]\n",
      " [147.76534866]\n",
      " [151.96564954]\n",
      " [129.10958749]\n",
      " [326.86999045]\n",
      " [200.22792609]\n",
      " [237.73167939]\n",
      " [151.32065796]\n",
      " [140.78722458]\n",
      " [219.7327205 ]\n",
      " [302.53682047]\n",
      " [ 64.06616829]\n",
      " [153.99862171]\n",
      " [140.92736562]\n",
      " [175.37526863]\n",
      " [313.12236579]\n",
      " [122.70221489]\n",
      " [325.06575248]\n",
      " [253.93805009]\n",
      " [274.73005551]\n",
      " [ 47.70052125]\n",
      " [250.76090254]\n",
      " [294.82586752]\n",
      " [221.33012794]\n",
      " [260.80659752]\n",
      " [287.916125  ]\n",
      " [128.48471398]\n",
      " [186.46155999]\n",
      " [320.48447399]\n",
      " [212.95377076]\n",
      " [140.25503628]\n",
      " [275.32502219]\n",
      " [ 80.90133629]\n",
      " [260.10509792]\n",
      " [424.55804235]\n",
      " [317.05788089]\n",
      " [385.56297538]\n",
      " [396.66651524]\n",
      " [424.51073133]\n",
      " [271.75164335]\n",
      " [121.11602327]\n",
      " [173.54835439]]\n",
      "outlierCleaner() is returning an empty list, no refitting to be done\n"
     ]
    }
   ],
   "source": [
    "%run outlier_removal_regression_Lucy"
   ]
  },
  {
   "cell_type": "code",
   "execution_count": 38,
   "metadata": {},
   "outputs": [
    {
     "name": "stdout",
     "output_type": "stream",
     "text": [
      "Slope is: [[5.07793064]]\n",
      "Intercept is: [25.21002155]\n",
      "0.8782624703664675\n"
     ]
    },
    {
     "data": {
      "image/png": "[encoded data removed]",
      "text/plain": [
       "<matplotlib.figure.Figure at 0xbc99978>"
      ]
     },
     "metadata": {},
     "output_type": "display_data"
    },
    {
     "name": "stdout",
     "output_type": "stream",
     "text": [
      "[[314.65206822]\n",
      " [314.65206822]\n",
      " [197.85966342]\n",
      " [350.19758273]\n",
      " [152.15828763]\n",
      " [294.34034565]\n",
      " [340.04172144]\n",
      " [233.40517793]\n",
      " [131.84656506]\n",
      " [294.34034565]\n",
      " [268.95069243]\n",
      " [147.08035699]\n",
      " [147.08035699]\n",
      " [177.54794085]\n",
      " [187.70380214]\n",
      " [253.7169005 ]\n",
      " [289.262415  ]\n",
      " [355.27551337]\n",
      " [131.84656506]\n",
      " [329.88586015]\n",
      " [243.56103921]\n",
      " [187.70380214]\n",
      " [177.54794085]\n",
      " [319.72999887]\n",
      " [223.24931664]\n",
      " [284.18448436]\n",
      " [177.54794085]\n",
      " [304.49620693]\n",
      " [253.7169005 ]\n",
      " [177.54794085]\n",
      " [208.01552471]\n",
      " [213.09345535]\n",
      " [142.00242634]\n",
      " [213.09345535]\n",
      " [147.08035699]\n",
      " [126.76863441]\n",
      " [187.70380214]\n",
      " [202.93759407]\n",
      " [253.7169005 ]\n",
      " [172.47001021]\n",
      " [350.19758273]\n",
      " [177.54794085]\n",
      " [263.87276179]\n",
      " [324.80792951]\n",
      " [223.24931664]\n",
      " [187.70380214]\n",
      " [334.9637908 ]\n",
      " [319.72999887]\n",
      " [319.72999887]\n",
      " [136.9244957 ]\n",
      " [162.31414892]\n",
      " [324.80792951]\n",
      " [274.02862307]\n",
      " [192.78173278]\n",
      " [213.09345535]\n",
      " [131.84656506]\n",
      " [147.08035699]\n",
      " [197.85966342]\n",
      " [274.02862307]\n",
      " [248.63896986]\n",
      " [182.62587149]\n",
      " [136.9244957 ]\n",
      " [162.31414892]\n",
      " [274.02862307]\n",
      " [350.19758273]\n",
      " [294.34034565]\n",
      " [218.171386  ]\n",
      " [248.63896986]\n",
      " [136.9244957 ]\n",
      " [213.09345535]\n",
      " [284.18448436]\n",
      " [218.171386  ]\n",
      " [268.95069243]\n",
      " [263.87276179]\n",
      " [131.84656506]\n",
      " [187.70380214]\n",
      " [289.262415  ]\n",
      " [187.70380214]\n",
      " [162.31414892]\n",
      " [243.56103921]\n",
      " [268.95069243]\n",
      " [279.10655372]\n",
      " [355.27551337]\n",
      " [258.79483114]\n",
      " [314.65206822]\n",
      " [355.27551337]\n",
      " [345.11965208]\n",
      " [274.02862307]\n",
      " [309.57413758]\n",
      " [172.47001021]]\n",
      "[[57]\n",
      " [57]\n",
      " [34]\n",
      " [64]\n",
      " [25]\n",
      " [53]\n",
      " [62]\n",
      " [41]\n",
      " [21]\n",
      " [53]\n",
      " [48]\n",
      " [24]\n",
      " [24]\n",
      " [30]\n",
      " [32]\n",
      " [45]\n",
      " [52]\n",
      " [65]\n",
      " [21]\n",
      " [60]\n",
      " [43]\n",
      " [32]\n",
      " [30]\n",
      " [58]\n",
      " [39]\n",
      " [51]\n",
      " [30]\n",
      " [55]\n",
      " [45]\n",
      " [30]\n",
      " [36]\n",
      " [37]\n",
      " [23]\n",
      " [37]\n",
      " [24]\n",
      " [20]\n",
      " [32]\n",
      " [35]\n",
      " [45]\n",
      " [29]\n",
      " [64]\n",
      " [30]\n",
      " [47]\n",
      " [59]\n",
      " [39]\n",
      " [32]\n",
      " [61]\n",
      " [58]\n",
      " [58]\n",
      " [22]\n",
      " [27]\n",
      " [59]\n",
      " [49]\n",
      " [33]\n",
      " [37]\n",
      " [21]\n",
      " [24]\n",
      " [34]\n",
      " [49]\n",
      " [44]\n",
      " [31]\n",
      " [22]\n",
      " [27]\n",
      " [49]\n",
      " [64]\n",
      " [53]\n",
      " [38]\n",
      " [44]\n",
      " [22]\n",
      " [37]\n",
      " [51]\n",
      " [38]\n",
      " [48]\n",
      " [47]\n",
      " [21]\n",
      " [32]\n",
      " [52]\n",
      " [32]\n",
      " [27]\n",
      " [43]\n",
      " [48]\n",
      " [50]\n",
      " [65]\n",
      " [46]\n",
      " [57]\n",
      " [65]\n",
      " [63]\n",
      " [49]\n",
      " [56]\n",
      " [29]]\n",
      "[[338.08951849]\n",
      " [344.21586776]\n",
      " [243.79287312]\n",
      " [378.84578142]\n",
      " [133.88384977]\n",
      " [326.56693251]\n",
      " [389.24094136]\n",
      " [250.26985299]\n",
      " [136.08924543]\n",
      " [368.29556369]\n",
      " [318.62560238]\n",
      " [139.40479592]\n",
      " [126.98012845]\n",
      " [185.18703435]\n",
      " [187.09760491]\n",
      " [270.00424942]\n",
      " [339.7693316 ]\n",
      " [ 34.19027438]\n",
      " [142.10120087]\n",
      " [374.28347922]\n",
      " [259.43540493]\n",
      " [221.14244452]\n",
      " [177.46485913]\n",
      " [350.4872262 ]\n",
      " [134.41369499]\n",
      " [314.06726086]\n",
      " [186.05979757]\n",
      " [370.87480057]\n",
      " [256.833127  ]\n",
      " [167.24337759]\n",
      " [189.73919689]\n",
      " [247.70089824]\n",
      " [159.09869458]\n",
      " [ 16.50778868]\n",
      " [157.51396037]\n",
      " [ 96.75392597]\n",
      " [207.14225143]\n",
      " [220.96845179]\n",
      " [259.12330052]\n",
      " [142.98439511]\n",
      " [389.11234551]\n",
      " [217.96059713]\n",
      " [300.03494665]\n",
      " [342.18627902]\n",
      " [234.36051228]\n",
      " [201.83521553]\n",
      " [412.83425631]\n",
      " [378.75051645]\n",
      " [366.6772719 ]\n",
      " [147.76534866]\n",
      " [151.96564954]\n",
      " [129.10958749]\n",
      " [326.86999045]\n",
      " [200.22792609]\n",
      " [237.73167939]\n",
      " [151.32065796]\n",
      " [140.78722458]\n",
      " [219.7327205 ]\n",
      " [302.53682047]\n",
      " [ 64.06616829]\n",
      " [153.99862171]\n",
      " [140.92736562]\n",
      " [175.37526863]\n",
      " [313.12236579]\n",
      " [122.70221489]\n",
      " [325.06575248]\n",
      " [253.93805009]\n",
      " [274.73005551]\n",
      " [ 47.70052125]\n",
      " [250.76090254]\n",
      " [294.82586752]\n",
      " [221.33012794]\n",
      " [260.80659752]\n",
      " [287.916125  ]\n",
      " [128.48471398]\n",
      " [186.46155999]\n",
      " [320.48447399]\n",
      " [212.95377076]\n",
      " [140.25503628]\n",
      " [275.32502219]\n",
      " [ 80.90133629]\n",
      " [260.10509792]\n",
      " [424.55804235]\n",
      " [317.05788089]\n",
      " [385.56297538]\n",
      " [396.66651524]\n",
      " [424.51073133]\n",
      " [271.75164335]\n",
      " [121.11602327]\n",
      " [173.54835439]]\n",
      "outlierCleaner() is returning an empty list, no refitting to be done\n"
     ]
    }
   ],
   "source": [
    "%run outlier_removal_regression_Lucy"
   ]
  },
  {
   "cell_type": "code",
   "execution_count": 39,
   "metadata": {},
   "outputs": [
    {
     "name": "stdout",
     "output_type": "stream",
     "text": [
      "Slope is: [[5.07793064]]\n",
      "Intercept is: [25.21002155]\n",
      "0.8782624703664675\n"
     ]
    },
    {
     "data": {
      "image/png": "[encoded data removed]",
      "text/plain": [
       "<matplotlib.figure.Figure at 0xc7e5518>"
      ]
     },
     "metadata": {},
     "output_type": "display_data"
    },
    {
     "name": "stdout",
     "output_type": "stream",
     "text": [
      "[21321.2977133]\n",
      "[3752]\n",
      "[21321.2977133]\n",
      "outlierCleaner() is returning an empty list, no refitting to be done\n"
     ]
    }
   ],
   "source": [
    "%run outlier_removal_regression_Lucy"
   ]
  },
  {
   "cell_type": "code",
   "execution_count": 40,
   "metadata": {},
   "outputs": [
    {
     "name": "stdout",
     "output_type": "stream",
     "text": [
      "Slope is: [[5.07793064]]\n",
      "Intercept is: [25.21002155]\n",
      "0.8782624703664675\n"
     ]
    },
    {
     "data": {
      "image/png": "[encoded data removed]",
      "text/plain": [
       "<matplotlib.figure.Figure at 0x9dc9ac8>"
      ]
     },
     "metadata": {},
     "output_type": "display_data"
    },
    {
     "name": "stdout",
     "output_type": "stream",
     "text": [
      "[314.6520682217305, 314.6520682217305, 197.85966342260454, 350.19758272581237, 152.15828763164222, 294.34034564796946, 340.04172143893186, 233.40517792668638, 131.84656505788118, 294.34034564796946, 268.9506924307682, 147.08035698820197, 147.08035698820197, 177.54794084884352, 187.70380213572403, 253.7169005004474, 289.2624150045292, 355.2755133692526, 131.84656505788118, 329.88586015205135, 243.5610392135669, 187.70380213572403, 177.54794084884352, 319.7299988651707, 223.24931663980584, 284.18448436108895, 177.54794084884352, 304.49620693484997, 253.7169005004474, 177.54794084884352, 208.01552470948508, 213.09345535292533, 142.00242634476172, 213.09345535292533, 147.08035698820197, 126.76863441444092, 187.70380213572403, 202.93759406604482, 253.7169005004474, 172.47001020540324, 350.19758272581237, 177.54794084884352, 263.87276178732793, 324.8079295086111, 223.24931663980584, 187.70380213572403, 334.9637907954916, 319.7299988651707, 319.7299988651707, 136.92449570132143, 162.31414891852273, 324.8079295086111, 274.02862307420844, 192.7817327791643, 213.09345535292533, 131.84656505788118, 147.08035698820197, 197.85966342260454, 274.02862307420844, 248.63896985700714, 182.62587149228378, 136.92449570132143, 162.31414891852273, 274.02862307420844, 350.19758272581237, 294.34034564796946, 218.1713859963656, 248.63896985700714, 136.92449570132143, 213.09345535292533, 284.18448436108895, 218.1713859963656, 268.9506924307682, 263.87276178732793, 131.84656505788118, 187.70380213572403, 289.2624150045292, 187.70380213572403, 162.31414891852273, 243.5610392135669, 268.9506924307682, 279.1065537176487, 355.2755133692526, 258.7948311438877, 314.6520682217305, 355.2755133692526, 345.1196520823721, 274.02862307420844, 309.5741375782902, 172.47001020540324]\n",
      "[57, 57, 34, 64, 25, 53, 62, 41, 21, 53, 48, 24, 24, 30, 32, 45, 52, 65, 21, 60, 43, 32, 30, 58, 39, 51, 30, 55, 45, 30, 36, 37, 23, 37, 24, 20, 32, 35, 45, 29, 64, 30, 47, 59, 39, 32, 61, 58, 58, 22, 27, 59, 49, 33, 37, 21, 24, 34, 49, 44, 31, 22, 27, 49, 64, 53, 38, 44, 22, 37, 51, 38, 48, 47, 21, 32, 52, 32, 27, 43, 48, 50, 65, 46, 57, 65, 63, 49, 56, 29]\n",
      "[338.08951848957577, 344.21586775541203, 243.79287311628013, 378.84578142088196, 133.88384977349668, 326.56693250553326, 389.24094136476344, 250.26985299068266, 136.08924543132068, 368.29556369017877, 318.62560238232396, 139.40479592465923, 126.98012845155395, 185.1870343522352, 187.0976049078975, 270.00424941518054, 339.7693315999082, 34.19027438129125, 142.1012008717193, 374.28347921780096, 259.43540492859483, 221.1424445243783, 177.46485912830926, 350.4872262016239, 134.41369498852399, 314.0672608610164, 186.05979756839332, 370.8748005714165, 256.83312700057957, 167.24337759331152, 189.73919689274533, 247.70089824206377, 159.09869458305818, 16.507788679151513, 157.51396036691344, 96.75392597329417, 207.14225143023492, 220.96845179419734, 259.1233005198794, 142.98439510684403, 389.1123455094963, 217.96059712816052, 300.0349466519055, 342.1862790220314, 234.36051228130097, 201.83521553071006, 412.83425631014785, 378.75051644788397, 366.6772719000951, 147.76534866226712, 151.96564953554724, 129.10958748845152, 326.86999044991904, 200.22792608821422, 237.7316793878959, 151.32065795784047, 140.78722458080426, 219.7327205009527, 302.53682046672367, 64.06616829393845, 153.99862170798215, 140.9273656237994, 175.37526862807127, 313.12236579136925, 122.70221488837397, 325.0657524829757, 253.93805008750448, 274.7300555052413, 47.70052124577958, 250.76090254244718, 294.8258675183866, 221.33012794213624, 260.8065975224045, 287.91612500413447, 128.4847139765763, 186.46155999388083, 320.4844739902693, 212.95377076201385, 140.25503627573087, 275.3250221931937, 80.9013362873476, 260.1050979182051, 424.5580423540415, 317.0578808948303, 385.5629753784311, 396.6665152430942, 424.51073132931936, 271.75164334973937, 121.11602327460938, 173.54835439167368]\n",
      "outlierCleaner() is returning an empty list, no refitting to be done\n"
     ]
    }
   ],
   "source": [
    "%run outlier_removal_regression_Lucy"
   ]
  },
  {
   "cell_type": "code",
   "execution_count": 41,
   "metadata": {},
   "outputs": [
    {
     "name": "stdout",
     "output_type": "stream",
     "text": [
      "Slope is: [[5.07793064]]\n",
      "Intercept is: [25.21002155]\n",
      "0.8782624703664675\n"
     ]
    },
    {
     "data": {
      "image/png": "[encoded data removed]",
      "text/plain": [
       "<matplotlib.figure.Figure at 0x9d94f60>"
      ]
     },
     "metadata": {},
     "output_type": "display_data"
    },
    {
     "name": "stdout",
     "output_type": "stream",
     "text": [
      "[314.6520682217305, 314.6520682217305, 197.85966342260454, 350.19758272581237, 152.15828763164222, 294.34034564796946, 340.04172143893186, 233.40517792668638, 131.84656505788118, 294.34034564796946, 268.9506924307682, 147.08035698820197, 147.08035698820197, 177.54794084884352, 187.70380213572403, 253.7169005004474, 289.2624150045292, 355.2755133692526, 131.84656505788118, 329.88586015205135, 243.5610392135669, 187.70380213572403, 177.54794084884352, 319.7299988651707, 223.24931663980584, 284.18448436108895, 177.54794084884352, 304.49620693484997, 253.7169005004474, 177.54794084884352, 208.01552470948508, 213.09345535292533, 142.00242634476172, 213.09345535292533, 147.08035698820197, 126.76863441444092, 187.70380213572403, 202.93759406604482, 253.7169005004474, 172.47001020540324, 350.19758272581237, 177.54794084884352, 263.87276178732793, 324.8079295086111, 223.24931663980584, 187.70380213572403, 334.9637907954916, 319.7299988651707, 319.7299988651707, 136.92449570132143, 162.31414891852273, 324.8079295086111, 274.02862307420844, 192.7817327791643, 213.09345535292533, 131.84656505788118, 147.08035698820197, 197.85966342260454, 274.02862307420844, 248.63896985700714, 182.62587149228378, 136.92449570132143, 162.31414891852273, 274.02862307420844, 350.19758272581237, 294.34034564796946, 218.1713859963656, 248.63896985700714, 136.92449570132143, 213.09345535292533, 284.18448436108895, 218.1713859963656, 268.9506924307682, 263.87276178732793, 131.84656505788118, 187.70380213572403, 289.2624150045292, 187.70380213572403, 162.31414891852273, 243.5610392135669, 268.9506924307682, 279.1065537176487, 355.2755133692526, 258.7948311438877, 314.6520682217305, 355.2755133692526, 345.1196520823721, 274.02862307420844, 309.5741375782902, 172.47001020540324]\n",
      "[57, 57, 34, 64, 25, 53, 62, 41, 21, 53, 48, 24, 24, 30, 32, 45, 52, 65, 21, 60, 43, 32, 30, 58, 39, 51, 30, 55, 45, 30, 36, 37, 23, 37, 24, 20, 32, 35, 45, 29, 64, 30, 47, 59, 39, 32, 61, 58, 58, 22, 27, 59, 49, 33, 37, 21, 24, 34, 49, 44, 31, 22, 27, 49, 64, 53, 38, 44, 22, 37, 51, 38, 48, 47, 21, 32, 52, 32, 27, 43, 48, 50, 65, 46, 57, 65, 63, 49, 56, 29]\n",
      "[338.08951848957577, 344.21586775541203, 243.79287311628013, 378.84578142088196, 133.88384977349668, 326.56693250553326, 389.24094136476344, 250.26985299068266, 136.08924543132068, 368.29556369017877, 318.62560238232396, 139.40479592465923, 126.98012845155395, 185.1870343522352, 187.0976049078975, 270.00424941518054, 339.7693315999082, 34.19027438129125, 142.1012008717193, 374.28347921780096, 259.43540492859483, 221.1424445243783, 177.46485912830926, 350.4872262016239, 134.41369498852399, 314.0672608610164, 186.05979756839332, 370.8748005714165, 256.83312700057957, 167.24337759331152, 189.73919689274533, 247.70089824206377, 159.09869458305818, 16.507788679151513, 157.51396036691344, 96.75392597329417, 207.14225143023492, 220.96845179419734, 259.1233005198794, 142.98439510684403, 389.1123455094963, 217.96059712816052, 300.0349466519055, 342.1862790220314, 234.36051228130097, 201.83521553071006, 412.83425631014785, 378.75051644788397, 366.6772719000951, 147.76534866226712, 151.96564953554724, 129.10958748845152, 326.86999044991904, 200.22792608821422, 237.7316793878959, 151.32065795784047, 140.78722458080426, 219.7327205009527, 302.53682046672367, 64.06616829393845, 153.99862170798215, 140.9273656237994, 175.37526862807127, 313.12236579136925, 122.70221488837397, 325.0657524829757, 253.93805008750448, 274.7300555052413, 47.70052124577958, 250.76090254244718, 294.8258675183866, 221.33012794213624, 260.8065975224045, 287.91612500413447, 128.4847139765763, 186.46155999388083, 320.4844739902693, 212.95377076201385, 140.25503627573087, 275.3250221931937, 80.9013362873476, 260.1050979182051, 424.5580423540415, 317.0578808948303, 385.5629753784311, 396.6665152430942, 424.51073132931936, 271.75164334973937, 121.11602327460938, 173.54835439167368]\n",
      "outlierCleaner() is returning an empty list, no refitting to be done\n"
     ]
    }
   ],
   "source": [
    "%run outlier_removal_regression_Lucy"
   ]
  },
  {
   "cell_type": "code",
   "execution_count": 42,
   "metadata": {},
   "outputs": [
    {
     "name": "stdout",
     "output_type": "stream",
     "text": [
      "Slope is: [[5.07793064]]\n",
      "Intercept is: [25.21002155]\n",
      "0.8782624703664675\n"
     ]
    },
    {
     "data": {
      "image/png": "[encoded data removed]",
      "text/plain": [
       "<matplotlib.figure.Figure at 0xbfcf908>"
      ]
     },
     "metadata": {},
     "output_type": "display_data"
    },
    {
     "name": "stdout",
     "output_type": "stream",
     "text": [
      "[314.6520682217305, 314.6520682217305, 197.85966342260454, 350.19758272581237, 152.15828763164222, 294.34034564796946, 340.04172143893186, 233.40517792668638, 131.84656505788118, 294.34034564796946, 268.9506924307682, 147.08035698820197, 147.08035698820197, 177.54794084884352, 187.70380213572403, 253.7169005004474, 289.2624150045292, 355.2755133692526, 131.84656505788118, 329.88586015205135, 243.5610392135669, 187.70380213572403, 177.54794084884352, 319.7299988651707, 223.24931663980584, 284.18448436108895, 177.54794084884352, 304.49620693484997, 253.7169005004474, 177.54794084884352, 208.01552470948508, 213.09345535292533, 142.00242634476172, 213.09345535292533, 147.08035698820197, 126.76863441444092, 187.70380213572403, 202.93759406604482, 253.7169005004474, 172.47001020540324, 350.19758272581237, 177.54794084884352, 263.87276178732793, 324.8079295086111, 223.24931663980584, 187.70380213572403, 334.9637907954916, 319.7299988651707, 319.7299988651707, 136.92449570132143, 162.31414891852273, 324.8079295086111, 274.02862307420844, 192.7817327791643, 213.09345535292533, 131.84656505788118, 147.08035698820197, 197.85966342260454, 274.02862307420844, 248.63896985700714, 182.62587149228378, 136.92449570132143, 162.31414891852273, 274.02862307420844, 350.19758272581237, 294.34034564796946, 218.1713859963656, 248.63896985700714, 136.92449570132143, 213.09345535292533, 284.18448436108895, 218.1713859963656, 268.9506924307682, 263.87276178732793, 131.84656505788118, 187.70380213572403, 289.2624150045292, 187.70380213572403, 162.31414891852273, 243.5610392135669, 268.9506924307682, 279.1065537176487, 355.2755133692526, 258.7948311438877, 314.6520682217305, 355.2755133692526, 345.1196520823721, 274.02862307420844, 309.5741375782902, 172.47001020540324]\n",
      "[57, 57, 34, 64, 25, 53, 62, 41, 21, 53, 48, 24, 24, 30, 32, 45, 52, 65, 21, 60, 43, 32, 30, 58, 39, 51, 30, 55, 45, 30, 36, 37, 23, 37, 24, 20, 32, 35, 45, 29, 64, 30, 47, 59, 39, 32, 61, 58, 58, 22, 27, 59, 49, 33, 37, 21, 24, 34, 49, 44, 31, 22, 27, 49, 64, 53, 38, 44, 22, 37, 51, 38, 48, 47, 21, 32, 52, 32, 27, 43, 48, 50, 65, 46, 57, 65, 63, 49, 56, 29]\n",
      "[338.08951848957577, 344.21586775541203, 243.79287311628013, 378.84578142088196, 133.88384977349668, 326.56693250553326, 389.24094136476344, 250.26985299068266, 136.08924543132068, 368.29556369017877, 318.62560238232396, 139.40479592465923, 126.98012845155395, 185.1870343522352, 187.0976049078975, 270.00424941518054, 339.7693315999082, 34.19027438129125, 142.1012008717193, 374.28347921780096, 259.43540492859483, 221.1424445243783, 177.46485912830926, 350.4872262016239, 134.41369498852399, 314.0672608610164, 186.05979756839332, 370.8748005714165, 256.83312700057957, 167.24337759331152, 189.73919689274533, 247.70089824206377, 159.09869458305818, 16.507788679151513, 157.51396036691344, 96.75392597329417, 207.14225143023492, 220.96845179419734, 259.1233005198794, 142.98439510684403, 389.1123455094963, 217.96059712816052, 300.0349466519055, 342.1862790220314, 234.36051228130097, 201.83521553071006, 412.83425631014785, 378.75051644788397, 366.6772719000951, 147.76534866226712, 151.96564953554724, 129.10958748845152, 326.86999044991904, 200.22792608821422, 237.7316793878959, 151.32065795784047, 140.78722458080426, 219.7327205009527, 302.53682046672367, 64.06616829393845, 153.99862170798215, 140.9273656237994, 175.37526862807127, 313.12236579136925, 122.70221488837397, 325.0657524829757, 253.93805008750448, 274.7300555052413, 47.70052124577958, 250.76090254244718, 294.8258675183866, 221.33012794213624, 260.8065975224045, 287.91612500413447, 128.4847139765763, 186.46155999388083, 320.4844739902693, 212.95377076201385, 140.25503627573087, 275.3250221931937, 80.9013362873476, 260.1050979182051, 424.5580423540415, 317.0578808948303, 385.5629753784311, 396.6665152430942, 424.51073132931936, 271.75164334973937, 121.11602327460938, 173.54835439167368]\n",
      "outlierCleaner() is returning an empty list, no refitting to be done\n"
     ]
    }
   ],
   "source": [
    "%run outlier_removal_regression_Lucy"
   ]
  },
  {
   "cell_type": "code",
   "execution_count": 43,
   "metadata": {},
   "outputs": [
    {
     "name": "stdout",
     "output_type": "stream",
     "text": [
      "Slope is: [[5.07793064]]\n",
      "Intercept is: [25.21002155]\n",
      "0.8782624703664675\n"
     ]
    },
    {
     "data": {
      "image/png": "[encoded data removed]",
      "text/plain": [
       "<matplotlib.figure.Figure at 0xbc979b0>"
      ]
     },
     "metadata": {},
     "output_type": "display_data"
    },
    {
     "name": "stdout",
     "output_type": "stream",
     "text": [
      "[314.6520682217305, 314.6520682217305, 197.85966342260454, 350.19758272581237, 152.15828763164222, 294.34034564796946, 340.04172143893186, 233.40517792668638, 131.84656505788118, 294.34034564796946, 268.9506924307682, 147.08035698820197, 147.08035698820197, 177.54794084884352, 187.70380213572403, 253.7169005004474, 289.2624150045292, 355.2755133692526, 131.84656505788118, 329.88586015205135, 243.5610392135669, 187.70380213572403, 177.54794084884352, 319.7299988651707, 223.24931663980584, 284.18448436108895, 177.54794084884352, 304.49620693484997, 253.7169005004474, 177.54794084884352, 208.01552470948508, 213.09345535292533, 142.00242634476172, 213.09345535292533, 147.08035698820197, 126.76863441444092, 187.70380213572403, 202.93759406604482, 253.7169005004474, 172.47001020540324, 350.19758272581237, 177.54794084884352, 263.87276178732793, 324.8079295086111, 223.24931663980584, 187.70380213572403, 334.9637907954916, 319.7299988651707, 319.7299988651707, 136.92449570132143, 162.31414891852273, 324.8079295086111, 274.02862307420844, 192.7817327791643, 213.09345535292533, 131.84656505788118, 147.08035698820197, 197.85966342260454, 274.02862307420844, 248.63896985700714, 182.62587149228378, 136.92449570132143, 162.31414891852273, 274.02862307420844, 350.19758272581237, 294.34034564796946, 218.1713859963656, 248.63896985700714, 136.92449570132143, 213.09345535292533, 284.18448436108895, 218.1713859963656, 268.9506924307682, 263.87276178732793, 131.84656505788118, 187.70380213572403, 289.2624150045292, 187.70380213572403, 162.31414891852273, 243.5610392135669, 268.9506924307682, 279.1065537176487, 355.2755133692526, 258.7948311438877, 314.6520682217305, 355.2755133692526, 345.1196520823721, 274.02862307420844, 309.5741375782902, 172.47001020540324]\n",
      "[57, 57, 34, 64, 25, 53, 62, 41, 21, 53, 48, 24, 24, 30, 32, 45, 52, 65, 21, 60, 43, 32, 30, 58, 39, 51, 30, 55, 45, 30, 36, 37, 23, 37, 24, 20, 32, 35, 45, 29, 64, 30, 47, 59, 39, 32, 61, 58, 58, 22, 27, 59, 49, 33, 37, 21, 24, 34, 49, 44, 31, 22, 27, 49, 64, 53, 38, 44, 22, 37, 51, 38, 48, 47, 21, 32, 52, 32, 27, 43, 48, 50, 65, 46, 57, 65, 63, 49, 56, 29]\n",
      "[338.08951848957577, 344.21586775541203, 243.79287311628013, 378.84578142088196, 133.88384977349668, 326.56693250553326, 389.24094136476344, 250.26985299068266, 136.08924543132068, 368.29556369017877, 318.62560238232396, 139.40479592465923, 126.98012845155395, 185.1870343522352, 187.0976049078975, 270.00424941518054, 339.7693315999082, 34.19027438129125, 142.1012008717193, 374.28347921780096, 259.43540492859483, 221.1424445243783, 177.46485912830926, 350.4872262016239, 134.41369498852399, 314.0672608610164, 186.05979756839332, 370.8748005714165, 256.83312700057957, 167.24337759331152, 189.73919689274533, 247.70089824206377, 159.09869458305818, 16.507788679151513, 157.51396036691344, 96.75392597329417, 207.14225143023492, 220.96845179419734, 259.1233005198794, 142.98439510684403, 389.1123455094963, 217.96059712816052, 300.0349466519055, 342.1862790220314, 234.36051228130097, 201.83521553071006, 412.83425631014785, 378.75051644788397, 366.6772719000951, 147.76534866226712, 151.96564953554724, 129.10958748845152, 326.86999044991904, 200.22792608821422, 237.7316793878959, 151.32065795784047, 140.78722458080426, 219.7327205009527, 302.53682046672367, 64.06616829393845, 153.99862170798215, 140.9273656237994, 175.37526862807127, 313.12236579136925, 122.70221488837397, 325.0657524829757, 253.93805008750448, 274.7300555052413, 47.70052124577958, 250.76090254244718, 294.8258675183866, 221.33012794213624, 260.8065975224045, 287.91612500413447, 128.4847139765763, 186.46155999388083, 320.4844739902693, 212.95377076201385, 140.25503627573087, 275.3250221931937, 80.9013362873476, 260.1050979182051, 424.5580423540415, 317.0578808948303, 385.5629753784311, 396.6665152430942, 424.51073132931936, 271.75164334973937, 121.11602327460938, 173.54835439167368]\n",
      "outlierCleaner() is returning an empty list, no refitting to be done\n"
     ]
    }
   ],
   "source": [
    "%run outlier_removal_regression_Lucy"
   ]
  },
  {
   "cell_type": "code",
   "execution_count": 44,
   "metadata": {},
   "outputs": [
    {
     "name": "stdout",
     "output_type": "stream",
     "text": [
      "Slope is: [[5.07793064]]\n",
      "Intercept is: [25.21002155]\n",
      "0.8782624703664675\n"
     ]
    },
    {
     "data": {
      "image/png": "[encoded data removed]",
      "text/plain": [
       "<matplotlib.figure.Figure at 0xb9fe0f0>"
      ]
     },
     "metadata": {},
     "output_type": "display_data"
    },
    {
     "name": "stdout",
     "output_type": "stream",
     "text": [
      "outlierCleaner() is returning an empty list, no refitting to be done\n"
     ]
    }
   ],
   "source": [
    "%run outlier_removal_regression_Lucy"
   ]
  },
  {
   "cell_type": "code",
   "execution_count": null,
   "metadata": {},
   "outputs": [],
   "source": []
  },
  {
   "cell_type": "code",
   "execution_count": 45,
   "metadata": {},
   "outputs": [
    {
     "ename": "NameError",
     "evalue": "name 'outlier_removal_regression_Lucy' is not defined",
     "output_type": "error",
     "traceback": [
      "\u001b[1;31m---------------------------------------------------------------------------\u001b[0m",
      "\u001b[1;31mNameError\u001b[0m                                 Traceback (most recent call last)",
      "\u001b[1;32m<ipython-input-45-60c3673d53ac>\u001b[0m in \u001b[0;36m<module>\u001b[1;34m()\u001b[0m\n\u001b[1;32m----> 1\u001b[1;33m \u001b[0moutlier_removal_regression_Lucy\u001b[0m\u001b[1;33m\u001b[0m\u001b[0m\n\u001b[0m",
      "\u001b[1;31mNameError\u001b[0m: name 'outlier_removal_regression_Lucy' is not defined"
     ]
    }
   ],
   "source": [
    "outlier_removal_regression_Lucy"
   ]
  },
  {
   "cell_type": "code",
   "execution_count": 46,
   "metadata": {},
   "outputs": [
    {
     "name": "stdout",
     "output_type": "stream",
     "text": [
      "Slope is: [[5.07793064]]\n",
      "Intercept is: [25.21002155]\n",
      "0.8782624703664675\n"
     ]
    },
    {
     "data": {
      "image/png": "[encoded data removed]",
      "text/plain": [
       "<matplotlib.figure.Figure at 0xba05c50>"
      ]
     },
     "metadata": {},
     "output_type": "display_data"
    },
    {
     "name": "stdout",
     "output_type": "stream",
     "text": [
      "outlierCleaner() is returning an empty list, no refitting to be done\n"
     ]
    }
   ],
   "source": [
    "%run outlier_removal_regression_Lucy.py"
   ]
  },
  {
   "cell_type": "code",
   "execution_count": 1,
   "metadata": {},
   "outputs": [
    {
     "name": "stdout",
     "output_type": "stream",
     "text": [
      "Slope is: [[5.07793064]]\n",
      "Intercept is: [25.21002155]\n",
      "0.8782624703664675\n"
     ]
    },
    {
     "name": "stderr",
     "output_type": "stream",
     "text": [
      "C:\\Users\\binglu\\AppData\\Local\\Continuum\\anaconda2\\lib\\site-packages\\sklearn\\cross_validation.py:41: DeprecationWarning: This module was deprecated in version 0.18 in favor of the model_selection module into which all the refactored classes and functions are moved. Also note that the interface of the new CV iterators are different from that of this module. This module will be removed in 0.20.\n",
      "  \"This module will be removed in 0.20.\", DeprecationWarning)\n"
     ]
    },
    {
     "data": {
      "text/plain": [
       "<matplotlib.figure.Figure at 0xa6139e8>"
      ]
     },
     "metadata": {},
     "output_type": "display_data"
    },
    {
     "name": "stdout",
     "output_type": "stream",
     "text": [
      "321.08523898796136 17\n",
      "1\n",
      "227.49536783743838 63\n",
      "2\n",
      "196.58566667377383 32\n",
      "2\n",
      "195.69834202015957 49\n",
      "3\n",
      "188.45811430368084 84\n",
      "4\n",
      "188.0493561434206 76\n",
      "3\n",
      "184.5728015630687 56\n",
      "4\n",
      "89.22397445554185 63\n",
      "5\n",
      "88.83562165128185 23\n",
      "5\n",
      "79.39107924694724 78\n",
      "6\n",
      "80\n",
      "80\n",
      "80\n"
     ]
    },
    {
     "data": {
      "text/plain": [
       "<matplotlib.figure.Figure at 0xa67c0b8>"
      ]
     },
     "metadata": {},
     "output_type": "display_data"
    }
   ],
   "source": [
    "%run outlier_removal_regression_Lucy"
   ]
  },
  {
   "cell_type": "code",
   "execution_count": 1,
   "metadata": {},
   "outputs": [
    {
     "name": "stdout",
     "output_type": "stream",
     "text": [
      "Slope is: [[5.07793064]]\n",
      "Intercept is: [25.21002155]\n",
      "0.8782624703664675\n"
     ]
    },
    {
     "name": "stderr",
     "output_type": "stream",
     "text": [
      "C:\\Users\\binglu\\AppData\\Local\\Continuum\\anaconda2\\lib\\site-packages\\sklearn\\cross_validation.py:41: DeprecationWarning: This module was deprecated in version 0.18 in favor of the model_selection module into which all the refactored classes and functions are moved. Also note that the interface of the new CV iterators are different from that of this module. This module will be removed in 0.20.\n",
      "  \"This module will be removed in 0.20.\", DeprecationWarning)\n"
     ]
    },
    {
     "data": {
      "text/plain": [
       "<matplotlib.figure.Figure at 0xa4079e8>"
      ]
     },
     "metadata": {},
     "output_type": "display_data"
    },
    {
     "name": "stdout",
     "output_type": "stream",
     "text": [
      "321.08523898796136 17\n",
      "1\n",
      "227.49536783743838 63\n",
      "2\n",
      "196.58566667377383 32\n",
      "2\n",
      "195.69834202015957 49\n",
      "3\n",
      "188.45811430368084 84\n",
      "4\n",
      "188.0493561434206 76\n",
      "3\n",
      "184.5728015630687 56\n",
      "4\n",
      "89.22397445554185 63\n",
      "5\n",
      "88.83562165128185 23\n",
      "5\n",
      "79.39107924694724 78\n",
      "6\n",
      "77.87046551465625 43\n",
      "6\n",
      "79\n",
      "79\n",
      "79\n"
     ]
    },
    {
     "data": {
      "text/plain": [
       "<matplotlib.figure.Figure at 0xa46f0f0>"
      ]
     },
     "metadata": {},
     "output_type": "display_data"
    }
   ],
   "source": [
    "%run outlier_removal_regression_Lucy"
   ]
  },
  {
   "cell_type": "code",
   "execution_count": 2,
   "metadata": {},
   "outputs": [
    {
     "name": "stdout",
     "output_type": "stream",
     "text": [
      "Slope is: [[5.07793064]]\n",
      "Intercept is: [25.21002155]\n",
      "0.8782624703664675\n"
     ]
    },
    {
     "data": {
      "image/png": "[encoded data removed]",
      "text/plain": [
       "<matplotlib.figure.Figure at 0xa676f98>"
      ]
     },
     "metadata": {},
     "output_type": "display_data"
    },
    {
     "name": "stdout",
     "output_type": "stream",
     "text": [
      "321.08523898796136 17\n",
      "1\n",
      "227.49536783743838 63\n",
      "2\n",
      "196.58566667377383 32\n",
      "2\n",
      "195.69834202015957 49\n",
      "3\n",
      "188.45811430368084 84\n",
      "4\n",
      "188.0493561434206 76\n",
      "3\n",
      "184.5728015630687 56\n",
      "4\n",
      "89.22397445554185 63\n",
      "5\n",
      "88.83562165128185 23\n",
      "5\n",
      "79.39107924694724 78\n",
      "6\n",
      "77.87046551465625 43\n",
      "6\n",
      "79\n",
      "79\n",
      "79\n"
     ]
    },
    {
     "data": {
      "image/png": "[encoded data removed]",
      "text/plain": [
       "<matplotlib.figure.Figure at 0x6a887b8>"
      ]
     },
     "metadata": {},
     "output_type": "display_data"
    }
   ],
   "source": [
    "%run outlier_removal_regression_Lucy"
   ]
  },
  {
   "cell_type": "code",
   "execution_count": 1,
   "metadata": {},
   "outputs": [
    {
     "name": "stdout",
     "output_type": "stream",
     "text": [
      "Slope is: [[5.07793064]]\n",
      "Intercept is: [25.21002155]\n",
      "0.8782624703664675\n"
     ]
    },
    {
     "name": "stderr",
     "output_type": "stream",
     "text": [
      "C:\\Users\\binglu\\AppData\\Local\\Continuum\\anaconda2\\lib\\site-packages\\sklearn\\cross_validation.py:41: DeprecationWarning: This module was deprecated in version 0.18 in favor of the model_selection module into which all the refactored classes and functions are moved. Also note that the interface of the new CV iterators are different from that of this module. This module will be removed in 0.20.\n",
      "  \"This module will be removed in 0.20.\", DeprecationWarning)\n"
     ]
    },
    {
     "data": {
      "text/plain": [
       "<matplotlib.figure.Figure at 0xa1a39b0>"
      ]
     },
     "metadata": {},
     "output_type": "display_data"
    },
    {
     "name": "stdout",
     "output_type": "stream",
     "text": [
      "321.08523898796136 17\n",
      "1\n",
      "227.49536783743838 63\n",
      "2\n",
      "196.58566667377383 32\n",
      "2\n",
      "195.69834202015957 49\n",
      "3\n",
      "188.45811430368084 84\n",
      "4\n",
      "188.0493561434206 76\n",
      "3\n",
      "184.5728015630687 56\n",
      "4\n",
      "89.22397445554185 63\n",
      "5\n",
      "82\n",
      "82\n",
      "82\n"
     ]
    },
    {
     "data": {
      "text/plain": [
       "<matplotlib.figure.Figure at 0xa2150f0>"
      ]
     },
     "metadata": {},
     "output_type": "display_data"
    }
   ],
   "source": [
    "%run outlier_removal_regression_Lucy"
   ]
  },
  {
   "cell_type": "code",
   "execution_count": null,
   "metadata": {},
   "outputs": [],
   "source": []
  }
 ],
 "metadata": {
  "kernelspec": {
   "display_name": "Python 2",
   "language": "python",
   "name": "python2"
  },
  "language_info": {
   "codemirror_mode": {
    "name": "ipython",
    "version": 2
   },
   "file_extension": ".py",
   "mimetype": "text/x-python",
   "name": "python",
   "nbconvert_exporter": "python",
   "pygments_lexer": "ipython2",
   "version": "2.7.14"
  }
 },
 "nbformat": 4,
 "nbformat_minor": 2
}
